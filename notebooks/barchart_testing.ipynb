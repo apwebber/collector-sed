{
 "cells": [
  {
   "cell_type": "code",
   "execution_count": 16,
   "metadata": {},
   "outputs": [
    {
     "name": "stdout",
     "output_type": "stream",
     "text": [
      "   cell_number    top  bottom     type      name  thickness  thickness2  \\\n",
      "0            0  0.400   0.300  settled         2      0.100       0.100   \n",
      "1            0  0.300   0.245  settled         1      0.055       0.055   \n",
      "2            0  0.245   0.100  settled         0      0.145       0.145   \n",
      "3            0  0.100  -0.500      bed  existing      0.600       0.600   \n",
      "4            1  0.410   0.300  settled         2      0.110       0.110   \n",
      "5            1  0.300   0.245  settled         1      0.055       0.055   \n",
      "6            1  0.245   0.100  settled         0      0.145       0.145   \n",
      "7            1  0.100  -0.500      bed  existing      0.600       0.600   \n",
      "\n",
      "   total_thickness  \n",
      "0             0.90  \n",
      "1             0.90  \n",
      "2             0.90  \n",
      "3             0.90  \n",
      "4             0.91  \n",
      "5             0.91  \n",
      "6             0.91  \n",
      "7             0.91  \n",
      "cell_number\n",
      "0    0.90\n",
      "1    0.91\n",
      "Name: total_thickness, dtype: float64\n",
      "<b>%{hovertext}</b><br><br>name=%{customdata[1]}<br>bottom=%{base}<br>cell_number=%{x}<br>thickness=%{y}<br>top=%{customdata[0]}<br>thickness2=%{customdata[2]}<br>total_thickness=%{customdata[3]}<extra></extra>\n"
     ]
    },
    {
     "data": {
      "application/vnd.plotly.v1+json": {
       "config": {
        "plotlyServerURL": "https://plot.ly"
       },
       "data": [
        {
         "alignmentgroup": "True",
         "base": [
          0.3,
          0.3
         ],
         "customdata": [
          [
           0.4,
           "2",
           0.10000000000000003,
           0.9
          ],
          [
           0.41,
           "2",
           0.10999999999999999,
           0.9099999999999999
          ]
         ],
         "hovertemplate": "<b>Cell: %{hovertext}</b><br><br>Name=%{customdata[1]:.3f}<br>Top=%{y}<br>Bottom=%{base:.3f}<br>Thickness: %{customdata[2]:.3f}<br>Total thickness: %{customdata[3]:.3f}<br><extra></extra>",
         "hovertext": [
          0,
          1
         ],
         "legendgroup": "2",
         "marker": {
          "color": "#636efa",
          "pattern": {
           "shape": ""
          }
         },
         "name": "2",
         "offsetgroup": "2",
         "orientation": "v",
         "showlegend": true,
         "textposition": "auto",
         "type": "bar",
         "x": [
          0,
          1
         ],
         "xaxis": "x",
         "y": [
          0.10000000000000003,
          0.10999999999999999
         ],
         "yaxis": "y"
        },
        {
         "alignmentgroup": "True",
         "base": [
          0.245,
          0.245
         ],
         "customdata": [
          [
           0.3,
           "1",
           0.05499999999999999,
           0.9
          ],
          [
           0.3,
           "1",
           0.05499999999999999,
           0.9099999999999999
          ]
         ],
         "hovertemplate": "<b>Cell: %{hovertext}</b><br><br>Name=%{customdata[1]:.3f}<br>Top=%{y}<br>Bottom=%{base:.3f}<br>Thickness: %{customdata[2]:.3f}<br>Total thickness: %{customdata[3]:.3f}<br><extra></extra>",
         "hovertext": [
          0,
          1
         ],
         "legendgroup": "1",
         "marker": {
          "color": "#EF553B",
          "pattern": {
           "shape": ""
          }
         },
         "name": "1",
         "offsetgroup": "1",
         "orientation": "v",
         "showlegend": true,
         "textposition": "auto",
         "type": "bar",
         "x": [
          0,
          1
         ],
         "xaxis": "x",
         "y": [
          0.05499999999999999,
          0.05499999999999999
         ],
         "yaxis": "y"
        },
        {
         "alignmentgroup": "True",
         "base": [
          0.1,
          0.1
         ],
         "customdata": [
          [
           0.245,
           "0",
           0.145,
           0.9
          ],
          [
           0.245,
           "0",
           0.145,
           0.9099999999999999
          ]
         ],
         "hovertemplate": "<b>Cell: %{hovertext}</b><br><br>Name=%{customdata[1]:.3f}<br>Top=%{y}<br>Bottom=%{base:.3f}<br>Thickness: %{customdata[2]:.3f}<br>Total thickness: %{customdata[3]:.3f}<br><extra></extra>",
         "hovertext": [
          0,
          1
         ],
         "legendgroup": "0",
         "marker": {
          "color": "#00cc96",
          "pattern": {
           "shape": ""
          }
         },
         "name": "0",
         "offsetgroup": "0",
         "orientation": "v",
         "showlegend": true,
         "textposition": "auto",
         "type": "bar",
         "x": [
          0,
          1
         ],
         "xaxis": "x",
         "y": [
          0.145,
          0.145
         ],
         "yaxis": "y"
        },
        {
         "alignmentgroup": "True",
         "base": [
          -0.5,
          -0.5
         ],
         "customdata": [
          [
           0.1,
           "existing",
           0.6,
           0.9
          ],
          [
           0.1,
           "existing",
           0.6,
           0.9099999999999999
          ]
         ],
         "hovertemplate": "<b>Cell: %{hovertext}</b><br><br>Name=%{customdata[1]:.3f}<br>Top=%{y}<br>Bottom=%{base:.3f}<br>Thickness: %{customdata[2]:.3f}<br>Total thickness: %{customdata[3]:.3f}<br><extra></extra>",
         "hovertext": [
          0,
          1
         ],
         "legendgroup": "existing",
         "marker": {
          "color": "#ab63fa",
          "pattern": {
           "shape": ""
          }
         },
         "name": "existing",
         "offsetgroup": "existing",
         "orientation": "v",
         "showlegend": true,
         "textposition": "auto",
         "type": "bar",
         "x": [
          0,
          1
         ],
         "xaxis": "x",
         "y": [
          0.6,
          0.6
         ],
         "yaxis": "y"
        }
       ],
       "layout": {
        "barmode": "relative",
        "legend": {
         "title": {
          "text": "name"
         },
         "tracegroupgap": 0
        },
        "margin": {
         "t": 60
        },
        "template": {
         "data": {
          "bar": [
           {
            "error_x": {
             "color": "#2a3f5f"
            },
            "error_y": {
             "color": "#2a3f5f"
            },
            "marker": {
             "line": {
              "color": "#E5ECF6",
              "width": 0.5
             },
             "pattern": {
              "fillmode": "overlay",
              "size": 10,
              "solidity": 0.2
             }
            },
            "type": "bar"
           }
          ],
          "barpolar": [
           {
            "marker": {
             "line": {
              "color": "#E5ECF6",
              "width": 0.5
             },
             "pattern": {
              "fillmode": "overlay",
              "size": 10,
              "solidity": 0.2
             }
            },
            "type": "barpolar"
           }
          ],
          "carpet": [
           {
            "aaxis": {
             "endlinecolor": "#2a3f5f",
             "gridcolor": "white",
             "linecolor": "white",
             "minorgridcolor": "white",
             "startlinecolor": "#2a3f5f"
            },
            "baxis": {
             "endlinecolor": "#2a3f5f",
             "gridcolor": "white",
             "linecolor": "white",
             "minorgridcolor": "white",
             "startlinecolor": "#2a3f5f"
            },
            "type": "carpet"
           }
          ],
          "choropleth": [
           {
            "colorbar": {
             "outlinewidth": 0,
             "ticks": ""
            },
            "type": "choropleth"
           }
          ],
          "contour": [
           {
            "colorbar": {
             "outlinewidth": 0,
             "ticks": ""
            },
            "colorscale": [
             [
              0,
              "#0d0887"
             ],
             [
              0.1111111111111111,
              "#46039f"
             ],
             [
              0.2222222222222222,
              "#7201a8"
             ],
             [
              0.3333333333333333,
              "#9c179e"
             ],
             [
              0.4444444444444444,
              "#bd3786"
             ],
             [
              0.5555555555555556,
              "#d8576b"
             ],
             [
              0.6666666666666666,
              "#ed7953"
             ],
             [
              0.7777777777777778,
              "#fb9f3a"
             ],
             [
              0.8888888888888888,
              "#fdca26"
             ],
             [
              1,
              "#f0f921"
             ]
            ],
            "type": "contour"
           }
          ],
          "contourcarpet": [
           {
            "colorbar": {
             "outlinewidth": 0,
             "ticks": ""
            },
            "type": "contourcarpet"
           }
          ],
          "heatmap": [
           {
            "colorbar": {
             "outlinewidth": 0,
             "ticks": ""
            },
            "colorscale": [
             [
              0,
              "#0d0887"
             ],
             [
              0.1111111111111111,
              "#46039f"
             ],
             [
              0.2222222222222222,
              "#7201a8"
             ],
             [
              0.3333333333333333,
              "#9c179e"
             ],
             [
              0.4444444444444444,
              "#bd3786"
             ],
             [
              0.5555555555555556,
              "#d8576b"
             ],
             [
              0.6666666666666666,
              "#ed7953"
             ],
             [
              0.7777777777777778,
              "#fb9f3a"
             ],
             [
              0.8888888888888888,
              "#fdca26"
             ],
             [
              1,
              "#f0f921"
             ]
            ],
            "type": "heatmap"
           }
          ],
          "heatmapgl": [
           {
            "colorbar": {
             "outlinewidth": 0,
             "ticks": ""
            },
            "colorscale": [
             [
              0,
              "#0d0887"
             ],
             [
              0.1111111111111111,
              "#46039f"
             ],
             [
              0.2222222222222222,
              "#7201a8"
             ],
             [
              0.3333333333333333,
              "#9c179e"
             ],
             [
              0.4444444444444444,
              "#bd3786"
             ],
             [
              0.5555555555555556,
              "#d8576b"
             ],
             [
              0.6666666666666666,
              "#ed7953"
             ],
             [
              0.7777777777777778,
              "#fb9f3a"
             ],
             [
              0.8888888888888888,
              "#fdca26"
             ],
             [
              1,
              "#f0f921"
             ]
            ],
            "type": "heatmapgl"
           }
          ],
          "histogram": [
           {
            "marker": {
             "pattern": {
              "fillmode": "overlay",
              "size": 10,
              "solidity": 0.2
             }
            },
            "type": "histogram"
           }
          ],
          "histogram2d": [
           {
            "colorbar": {
             "outlinewidth": 0,
             "ticks": ""
            },
            "colorscale": [
             [
              0,
              "#0d0887"
             ],
             [
              0.1111111111111111,
              "#46039f"
             ],
             [
              0.2222222222222222,
              "#7201a8"
             ],
             [
              0.3333333333333333,
              "#9c179e"
             ],
             [
              0.4444444444444444,
              "#bd3786"
             ],
             [
              0.5555555555555556,
              "#d8576b"
             ],
             [
              0.6666666666666666,
              "#ed7953"
             ],
             [
              0.7777777777777778,
              "#fb9f3a"
             ],
             [
              0.8888888888888888,
              "#fdca26"
             ],
             [
              1,
              "#f0f921"
             ]
            ],
            "type": "histogram2d"
           }
          ],
          "histogram2dcontour": [
           {
            "colorbar": {
             "outlinewidth": 0,
             "ticks": ""
            },
            "colorscale": [
             [
              0,
              "#0d0887"
             ],
             [
              0.1111111111111111,
              "#46039f"
             ],
             [
              0.2222222222222222,
              "#7201a8"
             ],
             [
              0.3333333333333333,
              "#9c179e"
             ],
             [
              0.4444444444444444,
              "#bd3786"
             ],
             [
              0.5555555555555556,
              "#d8576b"
             ],
             [
              0.6666666666666666,
              "#ed7953"
             ],
             [
              0.7777777777777778,
              "#fb9f3a"
             ],
             [
              0.8888888888888888,
              "#fdca26"
             ],
             [
              1,
              "#f0f921"
             ]
            ],
            "type": "histogram2dcontour"
           }
          ],
          "mesh3d": [
           {
            "colorbar": {
             "outlinewidth": 0,
             "ticks": ""
            },
            "type": "mesh3d"
           }
          ],
          "parcoords": [
           {
            "line": {
             "colorbar": {
              "outlinewidth": 0,
              "ticks": ""
             }
            },
            "type": "parcoords"
           }
          ],
          "pie": [
           {
            "automargin": true,
            "type": "pie"
           }
          ],
          "scatter": [
           {
            "fillpattern": {
             "fillmode": "overlay",
             "size": 10,
             "solidity": 0.2
            },
            "type": "scatter"
           }
          ],
          "scatter3d": [
           {
            "line": {
             "colorbar": {
              "outlinewidth": 0,
              "ticks": ""
             }
            },
            "marker": {
             "colorbar": {
              "outlinewidth": 0,
              "ticks": ""
             }
            },
            "type": "scatter3d"
           }
          ],
          "scattercarpet": [
           {
            "marker": {
             "colorbar": {
              "outlinewidth": 0,
              "ticks": ""
             }
            },
            "type": "scattercarpet"
           }
          ],
          "scattergeo": [
           {
            "marker": {
             "colorbar": {
              "outlinewidth": 0,
              "ticks": ""
             }
            },
            "type": "scattergeo"
           }
          ],
          "scattergl": [
           {
            "marker": {
             "colorbar": {
              "outlinewidth": 0,
              "ticks": ""
             }
            },
            "type": "scattergl"
           }
          ],
          "scattermapbox": [
           {
            "marker": {
             "colorbar": {
              "outlinewidth": 0,
              "ticks": ""
             }
            },
            "type": "scattermapbox"
           }
          ],
          "scatterpolar": [
           {
            "marker": {
             "colorbar": {
              "outlinewidth": 0,
              "ticks": ""
             }
            },
            "type": "scatterpolar"
           }
          ],
          "scatterpolargl": [
           {
            "marker": {
             "colorbar": {
              "outlinewidth": 0,
              "ticks": ""
             }
            },
            "type": "scatterpolargl"
           }
          ],
          "scatterternary": [
           {
            "marker": {
             "colorbar": {
              "outlinewidth": 0,
              "ticks": ""
             }
            },
            "type": "scatterternary"
           }
          ],
          "surface": [
           {
            "colorbar": {
             "outlinewidth": 0,
             "ticks": ""
            },
            "colorscale": [
             [
              0,
              "#0d0887"
             ],
             [
              0.1111111111111111,
              "#46039f"
             ],
             [
              0.2222222222222222,
              "#7201a8"
             ],
             [
              0.3333333333333333,
              "#9c179e"
             ],
             [
              0.4444444444444444,
              "#bd3786"
             ],
             [
              0.5555555555555556,
              "#d8576b"
             ],
             [
              0.6666666666666666,
              "#ed7953"
             ],
             [
              0.7777777777777778,
              "#fb9f3a"
             ],
             [
              0.8888888888888888,
              "#fdca26"
             ],
             [
              1,
              "#f0f921"
             ]
            ],
            "type": "surface"
           }
          ],
          "table": [
           {
            "cells": {
             "fill": {
              "color": "#EBF0F8"
             },
             "line": {
              "color": "white"
             }
            },
            "header": {
             "fill": {
              "color": "#C8D4E3"
             },
             "line": {
              "color": "white"
             }
            },
            "type": "table"
           }
          ]
         },
         "layout": {
          "annotationdefaults": {
           "arrowcolor": "#2a3f5f",
           "arrowhead": 0,
           "arrowwidth": 1
          },
          "autotypenumbers": "strict",
          "coloraxis": {
           "colorbar": {
            "outlinewidth": 0,
            "ticks": ""
           }
          },
          "colorscale": {
           "diverging": [
            [
             0,
             "#8e0152"
            ],
            [
             0.1,
             "#c51b7d"
            ],
            [
             0.2,
             "#de77ae"
            ],
            [
             0.3,
             "#f1b6da"
            ],
            [
             0.4,
             "#fde0ef"
            ],
            [
             0.5,
             "#f7f7f7"
            ],
            [
             0.6,
             "#e6f5d0"
            ],
            [
             0.7,
             "#b8e186"
            ],
            [
             0.8,
             "#7fbc41"
            ],
            [
             0.9,
             "#4d9221"
            ],
            [
             1,
             "#276419"
            ]
           ],
           "sequential": [
            [
             0,
             "#0d0887"
            ],
            [
             0.1111111111111111,
             "#46039f"
            ],
            [
             0.2222222222222222,
             "#7201a8"
            ],
            [
             0.3333333333333333,
             "#9c179e"
            ],
            [
             0.4444444444444444,
             "#bd3786"
            ],
            [
             0.5555555555555556,
             "#d8576b"
            ],
            [
             0.6666666666666666,
             "#ed7953"
            ],
            [
             0.7777777777777778,
             "#fb9f3a"
            ],
            [
             0.8888888888888888,
             "#fdca26"
            ],
            [
             1,
             "#f0f921"
            ]
           ],
           "sequentialminus": [
            [
             0,
             "#0d0887"
            ],
            [
             0.1111111111111111,
             "#46039f"
            ],
            [
             0.2222222222222222,
             "#7201a8"
            ],
            [
             0.3333333333333333,
             "#9c179e"
            ],
            [
             0.4444444444444444,
             "#bd3786"
            ],
            [
             0.5555555555555556,
             "#d8576b"
            ],
            [
             0.6666666666666666,
             "#ed7953"
            ],
            [
             0.7777777777777778,
             "#fb9f3a"
            ],
            [
             0.8888888888888888,
             "#fdca26"
            ],
            [
             1,
             "#f0f921"
            ]
           ]
          },
          "colorway": [
           "#636efa",
           "#EF553B",
           "#00cc96",
           "#ab63fa",
           "#FFA15A",
           "#19d3f3",
           "#FF6692",
           "#B6E880",
           "#FF97FF",
           "#FECB52"
          ],
          "font": {
           "color": "#2a3f5f"
          },
          "geo": {
           "bgcolor": "white",
           "lakecolor": "white",
           "landcolor": "#E5ECF6",
           "showlakes": true,
           "showland": true,
           "subunitcolor": "white"
          },
          "hoverlabel": {
           "align": "left"
          },
          "hovermode": "closest",
          "mapbox": {
           "style": "light"
          },
          "paper_bgcolor": "white",
          "plot_bgcolor": "#E5ECF6",
          "polar": {
           "angularaxis": {
            "gridcolor": "white",
            "linecolor": "white",
            "ticks": ""
           },
           "bgcolor": "#E5ECF6",
           "radialaxis": {
            "gridcolor": "white",
            "linecolor": "white",
            "ticks": ""
           }
          },
          "scene": {
           "xaxis": {
            "backgroundcolor": "#E5ECF6",
            "gridcolor": "white",
            "gridwidth": 2,
            "linecolor": "white",
            "showbackground": true,
            "ticks": "",
            "zerolinecolor": "white"
           },
           "yaxis": {
            "backgroundcolor": "#E5ECF6",
            "gridcolor": "white",
            "gridwidth": 2,
            "linecolor": "white",
            "showbackground": true,
            "ticks": "",
            "zerolinecolor": "white"
           },
           "zaxis": {
            "backgroundcolor": "#E5ECF6",
            "gridcolor": "white",
            "gridwidth": 2,
            "linecolor": "white",
            "showbackground": true,
            "ticks": "",
            "zerolinecolor": "white"
           }
          },
          "shapedefaults": {
           "line": {
            "color": "#2a3f5f"
           }
          },
          "ternary": {
           "aaxis": {
            "gridcolor": "white",
            "linecolor": "white",
            "ticks": ""
           },
           "baxis": {
            "gridcolor": "white",
            "linecolor": "white",
            "ticks": ""
           },
           "bgcolor": "#E5ECF6",
           "caxis": {
            "gridcolor": "white",
            "linecolor": "white",
            "ticks": ""
           }
          },
          "title": {
           "x": 0.05
          },
          "xaxis": {
           "automargin": true,
           "gridcolor": "white",
           "linecolor": "white",
           "ticks": "",
           "title": {
            "standoff": 15
           },
           "zerolinecolor": "white",
           "zerolinewidth": 2
          },
          "yaxis": {
           "automargin": true,
           "gridcolor": "white",
           "linecolor": "white",
           "ticks": "",
           "title": {
            "standoff": 15
           },
           "zerolinecolor": "white",
           "zerolinewidth": 2
          }
         }
        },
        "xaxis": {
         "anchor": "y",
         "domain": [
          0,
          1
         ],
         "title": {
          "text": "cell_number"
         }
        },
        "yaxis": {
         "anchor": "x",
         "domain": [
          0,
          1
         ],
         "title": {
          "text": "thickness"
         }
        }
       }
      }
     },
     "metadata": {},
     "output_type": "display_data"
    }
   ],
   "source": [
    "\n",
    "import plotly.express as px\n",
    "import pandas as pd\n",
    "\n",
    "\n",
    "df = pd.DataFrame(\n",
    "            {   \n",
    "                \"cell_number\": [0,0,0,0,1,1,1,1],\n",
    "                \"top\": [0.4, 0.3, 0.245, 0.1, 0.41, 0.3, 0.245, 0.1],\n",
    "                \"bottom\": [0.3, 0.245, 0.1, -0.5, 0.3, 0.245, 0.1, -0.5],\n",
    "                \"type\": [\"settled\", \"settled\", \"settled\", \"bed\", \"settled\", \"settled\", \"settled\", \"bed\"],\n",
    "                \"name\": [\"2\", \"1\", \"0\", \"existing\", \"2\", \"1\", \"0\", \"existing\"],\n",
    "            }\n",
    "        )\n",
    "        \n",
    "df['thickness'] = abs(df['bottom'] - df['top'])\n",
    "df['thickness2'] = df['thickness']\n",
    "total_thicknesses = df.groupby('cell_number').sum(numeric_only=True)['thickness2']\n",
    "total_thicknesses.rename('total_thickness', inplace=True)\n",
    "\n",
    "df = pd.merge(df, total_thicknesses, on='cell_number')\n",
    "\n",
    "print(df)\n",
    "print(total_thicknesses)\n",
    "        \n",
    "fig = px.bar(\n",
    "            df,\n",
    "            x=\"cell_number\",\n",
    "            y=\"thickness\",\n",
    "            base=\"bottom\",\n",
    "            color='name',\n",
    "            hover_name='cell_number',\n",
    "            hover_data={\n",
    "                'top': True,\n",
    "                'bottom': True,\n",
    "                'thickness': True, # For some reason thickness is displaying the wrong value (top)\n",
    "                'cell_number': True,\n",
    "                'name': True,\n",
    "                'thickness2': True,\n",
    "                'total_thickness': True\n",
    "            },\n",
    "        )\n",
    "\n",
    "print(fig.data[0].hovertemplate)\n",
    "fig.update_traces(hovertemplate=\"<b>Cell: %{hovertext}</b><br><br>Name=%{customdata[1]:.3f}<br>Top=%{y}<br>Bottom=%{base:.3f}<br>Thickness: %{customdata[2]:.3f}<br>Total thickness: %{customdata[3]:.3f}<br><extra></extra>\")\n",
    "fig.show()"
   ]
  },
  {
   "cell_type": "code",
   "execution_count": 5,
   "metadata": {},
   "outputs": [
    {
     "data": {
      "application/vnd.plotly.v1+json": {
       "config": {
        "plotlyServerURL": "https://plot.ly"
       },
       "data": [
        {
         "base": [
          0.1,
          0.1
         ],
         "customdata": [
          [
           0.145
          ],
          [
           0.145
          ]
         ],
         "hovertemplate": "Top: %{y:.2f}m<br>Bottom: %{base:.2f}<br>Thickness: %{customdata[0]:,.2f}<br><b>Cell</b>: %{x}<br>",
         "marker": {
          "color": [
           "rgb(0.267004, 0.004874, 0.329415)",
           "rgb(0.267004, 0.004874, 0.329415)"
          ]
         },
         "name": "Settled: 0",
         "type": "bar",
         "x": [
          0,
          1
         ],
         "y": [
          0.145,
          0.145
         ]
        },
        {
         "base": [
          0.245,
          0.245
         ],
         "customdata": [
          [
           0.05499999999999999
          ],
          [
           0.05499999999999999
          ]
         ],
         "hovertemplate": "Top: %{y:.2f}m<br>Bottom: %{base:.2f}<br>Thickness: %{customdata[0]:,.2f}<br><b>Cell</b>: %{x}<br>",
         "marker": {
          "color": [
           "rgb(0.127568, 0.566949, 0.550556)",
           "rgb(0.127568, 0.566949, 0.550556)"
          ]
         },
         "name": "Settled: 1",
         "type": "bar",
         "x": [
          0,
          1
         ],
         "y": [
          0.05499999999999999,
          0.05499999999999999
         ]
        },
        {
         "base": [
          0.3,
          0.3
         ],
         "customdata": [
          [
           0.10999999999999999
          ],
          [
           0.10999999999999999
          ]
         ],
         "hovertemplate": "Top: %{y:.2f}m<br>Bottom: %{base:.2f}<br>Thickness: %{customdata[0]:,.2f}<br><b>Cell</b>: %{x}<br>",
         "marker": {
          "color": [
           "rgb(0.993248, 0.906157, 0.143936)",
           "rgb(0.993248, 0.906157, 0.143936)"
          ]
         },
         "name": "Settled: 2",
         "type": "bar",
         "x": [
          0,
          1
         ],
         "y": [
          0.10999999999999999,
          0.10999999999999999
         ]
        },
        {
         "base": [
          -0.5,
          -0.5
         ],
         "customdata": [
          [
           0.6
          ],
          [
           0.6
          ]
         ],
         "hovertemplate": "Top: %{y:.2f}m<br>Bottom: %{base:.2f}<br>Thickness: %{customdata[0]:,.2f}<br><b>Cell</b>: %{x}<br>",
         "marker": {
          "color": [
           "#2e2e2e",
           "#2e2e2e"
          ]
         },
         "name": "seabed",
         "type": "bar",
         "x": [
          0,
          1
         ],
         "y": [
          0.6,
          0.6
         ]
        }
       ],
       "layout": {
        "barmode": "stack",
        "template": {
         "data": {
          "bar": [
           {
            "error_x": {
             "color": "#2a3f5f"
            },
            "error_y": {
             "color": "#2a3f5f"
            },
            "marker": {
             "line": {
              "color": "#E5ECF6",
              "width": 0.5
             },
             "pattern": {
              "fillmode": "overlay",
              "size": 10,
              "solidity": 0.2
             }
            },
            "type": "bar"
           }
          ],
          "barpolar": [
           {
            "marker": {
             "line": {
              "color": "#E5ECF6",
              "width": 0.5
             },
             "pattern": {
              "fillmode": "overlay",
              "size": 10,
              "solidity": 0.2
             }
            },
            "type": "barpolar"
           }
          ],
          "carpet": [
           {
            "aaxis": {
             "endlinecolor": "#2a3f5f",
             "gridcolor": "white",
             "linecolor": "white",
             "minorgridcolor": "white",
             "startlinecolor": "#2a3f5f"
            },
            "baxis": {
             "endlinecolor": "#2a3f5f",
             "gridcolor": "white",
             "linecolor": "white",
             "minorgridcolor": "white",
             "startlinecolor": "#2a3f5f"
            },
            "type": "carpet"
           }
          ],
          "choropleth": [
           {
            "colorbar": {
             "outlinewidth": 0,
             "ticks": ""
            },
            "type": "choropleth"
           }
          ],
          "contour": [
           {
            "colorbar": {
             "outlinewidth": 0,
             "ticks": ""
            },
            "colorscale": [
             [
              0,
              "#0d0887"
             ],
             [
              0.1111111111111111,
              "#46039f"
             ],
             [
              0.2222222222222222,
              "#7201a8"
             ],
             [
              0.3333333333333333,
              "#9c179e"
             ],
             [
              0.4444444444444444,
              "#bd3786"
             ],
             [
              0.5555555555555556,
              "#d8576b"
             ],
             [
              0.6666666666666666,
              "#ed7953"
             ],
             [
              0.7777777777777778,
              "#fb9f3a"
             ],
             [
              0.8888888888888888,
              "#fdca26"
             ],
             [
              1,
              "#f0f921"
             ]
            ],
            "type": "contour"
           }
          ],
          "contourcarpet": [
           {
            "colorbar": {
             "outlinewidth": 0,
             "ticks": ""
            },
            "type": "contourcarpet"
           }
          ],
          "heatmap": [
           {
            "colorbar": {
             "outlinewidth": 0,
             "ticks": ""
            },
            "colorscale": [
             [
              0,
              "#0d0887"
             ],
             [
              0.1111111111111111,
              "#46039f"
             ],
             [
              0.2222222222222222,
              "#7201a8"
             ],
             [
              0.3333333333333333,
              "#9c179e"
             ],
             [
              0.4444444444444444,
              "#bd3786"
             ],
             [
              0.5555555555555556,
              "#d8576b"
             ],
             [
              0.6666666666666666,
              "#ed7953"
             ],
             [
              0.7777777777777778,
              "#fb9f3a"
             ],
             [
              0.8888888888888888,
              "#fdca26"
             ],
             [
              1,
              "#f0f921"
             ]
            ],
            "type": "heatmap"
           }
          ],
          "heatmapgl": [
           {
            "colorbar": {
             "outlinewidth": 0,
             "ticks": ""
            },
            "colorscale": [
             [
              0,
              "#0d0887"
             ],
             [
              0.1111111111111111,
              "#46039f"
             ],
             [
              0.2222222222222222,
              "#7201a8"
             ],
             [
              0.3333333333333333,
              "#9c179e"
             ],
             [
              0.4444444444444444,
              "#bd3786"
             ],
             [
              0.5555555555555556,
              "#d8576b"
             ],
             [
              0.6666666666666666,
              "#ed7953"
             ],
             [
              0.7777777777777778,
              "#fb9f3a"
             ],
             [
              0.8888888888888888,
              "#fdca26"
             ],
             [
              1,
              "#f0f921"
             ]
            ],
            "type": "heatmapgl"
           }
          ],
          "histogram": [
           {
            "marker": {
             "pattern": {
              "fillmode": "overlay",
              "size": 10,
              "solidity": 0.2
             }
            },
            "type": "histogram"
           }
          ],
          "histogram2d": [
           {
            "colorbar": {
             "outlinewidth": 0,
             "ticks": ""
            },
            "colorscale": [
             [
              0,
              "#0d0887"
             ],
             [
              0.1111111111111111,
              "#46039f"
             ],
             [
              0.2222222222222222,
              "#7201a8"
             ],
             [
              0.3333333333333333,
              "#9c179e"
             ],
             [
              0.4444444444444444,
              "#bd3786"
             ],
             [
              0.5555555555555556,
              "#d8576b"
             ],
             [
              0.6666666666666666,
              "#ed7953"
             ],
             [
              0.7777777777777778,
              "#fb9f3a"
             ],
             [
              0.8888888888888888,
              "#fdca26"
             ],
             [
              1,
              "#f0f921"
             ]
            ],
            "type": "histogram2d"
           }
          ],
          "histogram2dcontour": [
           {
            "colorbar": {
             "outlinewidth": 0,
             "ticks": ""
            },
            "colorscale": [
             [
              0,
              "#0d0887"
             ],
             [
              0.1111111111111111,
              "#46039f"
             ],
             [
              0.2222222222222222,
              "#7201a8"
             ],
             [
              0.3333333333333333,
              "#9c179e"
             ],
             [
              0.4444444444444444,
              "#bd3786"
             ],
             [
              0.5555555555555556,
              "#d8576b"
             ],
             [
              0.6666666666666666,
              "#ed7953"
             ],
             [
              0.7777777777777778,
              "#fb9f3a"
             ],
             [
              0.8888888888888888,
              "#fdca26"
             ],
             [
              1,
              "#f0f921"
             ]
            ],
            "type": "histogram2dcontour"
           }
          ],
          "mesh3d": [
           {
            "colorbar": {
             "outlinewidth": 0,
             "ticks": ""
            },
            "type": "mesh3d"
           }
          ],
          "parcoords": [
           {
            "line": {
             "colorbar": {
              "outlinewidth": 0,
              "ticks": ""
             }
            },
            "type": "parcoords"
           }
          ],
          "pie": [
           {
            "automargin": true,
            "type": "pie"
           }
          ],
          "scatter": [
           {
            "fillpattern": {
             "fillmode": "overlay",
             "size": 10,
             "solidity": 0.2
            },
            "type": "scatter"
           }
          ],
          "scatter3d": [
           {
            "line": {
             "colorbar": {
              "outlinewidth": 0,
              "ticks": ""
             }
            },
            "marker": {
             "colorbar": {
              "outlinewidth": 0,
              "ticks": ""
             }
            },
            "type": "scatter3d"
           }
          ],
          "scattercarpet": [
           {
            "marker": {
             "colorbar": {
              "outlinewidth": 0,
              "ticks": ""
             }
            },
            "type": "scattercarpet"
           }
          ],
          "scattergeo": [
           {
            "marker": {
             "colorbar": {
              "outlinewidth": 0,
              "ticks": ""
             }
            },
            "type": "scattergeo"
           }
          ],
          "scattergl": [
           {
            "marker": {
             "colorbar": {
              "outlinewidth": 0,
              "ticks": ""
             }
            },
            "type": "scattergl"
           }
          ],
          "scattermapbox": [
           {
            "marker": {
             "colorbar": {
              "outlinewidth": 0,
              "ticks": ""
             }
            },
            "type": "scattermapbox"
           }
          ],
          "scatterpolar": [
           {
            "marker": {
             "colorbar": {
              "outlinewidth": 0,
              "ticks": ""
             }
            },
            "type": "scatterpolar"
           }
          ],
          "scatterpolargl": [
           {
            "marker": {
             "colorbar": {
              "outlinewidth": 0,
              "ticks": ""
             }
            },
            "type": "scatterpolargl"
           }
          ],
          "scatterternary": [
           {
            "marker": {
             "colorbar": {
              "outlinewidth": 0,
              "ticks": ""
             }
            },
            "type": "scatterternary"
           }
          ],
          "surface": [
           {
            "colorbar": {
             "outlinewidth": 0,
             "ticks": ""
            },
            "colorscale": [
             [
              0,
              "#0d0887"
             ],
             [
              0.1111111111111111,
              "#46039f"
             ],
             [
              0.2222222222222222,
              "#7201a8"
             ],
             [
              0.3333333333333333,
              "#9c179e"
             ],
             [
              0.4444444444444444,
              "#bd3786"
             ],
             [
              0.5555555555555556,
              "#d8576b"
             ],
             [
              0.6666666666666666,
              "#ed7953"
             ],
             [
              0.7777777777777778,
              "#fb9f3a"
             ],
             [
              0.8888888888888888,
              "#fdca26"
             ],
             [
              1,
              "#f0f921"
             ]
            ],
            "type": "surface"
           }
          ],
          "table": [
           {
            "cells": {
             "fill": {
              "color": "#EBF0F8"
             },
             "line": {
              "color": "white"
             }
            },
            "header": {
             "fill": {
              "color": "#C8D4E3"
             },
             "line": {
              "color": "white"
             }
            },
            "type": "table"
           }
          ]
         },
         "layout": {
          "annotationdefaults": {
           "arrowcolor": "#2a3f5f",
           "arrowhead": 0,
           "arrowwidth": 1
          },
          "autotypenumbers": "strict",
          "coloraxis": {
           "colorbar": {
            "outlinewidth": 0,
            "ticks": ""
           }
          },
          "colorscale": {
           "diverging": [
            [
             0,
             "#8e0152"
            ],
            [
             0.1,
             "#c51b7d"
            ],
            [
             0.2,
             "#de77ae"
            ],
            [
             0.3,
             "#f1b6da"
            ],
            [
             0.4,
             "#fde0ef"
            ],
            [
             0.5,
             "#f7f7f7"
            ],
            [
             0.6,
             "#e6f5d0"
            ],
            [
             0.7,
             "#b8e186"
            ],
            [
             0.8,
             "#7fbc41"
            ],
            [
             0.9,
             "#4d9221"
            ],
            [
             1,
             "#276419"
            ]
           ],
           "sequential": [
            [
             0,
             "#0d0887"
            ],
            [
             0.1111111111111111,
             "#46039f"
            ],
            [
             0.2222222222222222,
             "#7201a8"
            ],
            [
             0.3333333333333333,
             "#9c179e"
            ],
            [
             0.4444444444444444,
             "#bd3786"
            ],
            [
             0.5555555555555556,
             "#d8576b"
            ],
            [
             0.6666666666666666,
             "#ed7953"
            ],
            [
             0.7777777777777778,
             "#fb9f3a"
            ],
            [
             0.8888888888888888,
             "#fdca26"
            ],
            [
             1,
             "#f0f921"
            ]
           ],
           "sequentialminus": [
            [
             0,
             "#0d0887"
            ],
            [
             0.1111111111111111,
             "#46039f"
            ],
            [
             0.2222222222222222,
             "#7201a8"
            ],
            [
             0.3333333333333333,
             "#9c179e"
            ],
            [
             0.4444444444444444,
             "#bd3786"
            ],
            [
             0.5555555555555556,
             "#d8576b"
            ],
            [
             0.6666666666666666,
             "#ed7953"
            ],
            [
             0.7777777777777778,
             "#fb9f3a"
            ],
            [
             0.8888888888888888,
             "#fdca26"
            ],
            [
             1,
             "#f0f921"
            ]
           ]
          },
          "colorway": [
           "#636efa",
           "#EF553B",
           "#00cc96",
           "#ab63fa",
           "#FFA15A",
           "#19d3f3",
           "#FF6692",
           "#B6E880",
           "#FF97FF",
           "#FECB52"
          ],
          "font": {
           "color": "#2a3f5f"
          },
          "geo": {
           "bgcolor": "white",
           "lakecolor": "white",
           "landcolor": "#E5ECF6",
           "showlakes": true,
           "showland": true,
           "subunitcolor": "white"
          },
          "hoverlabel": {
           "align": "left"
          },
          "hovermode": "closest",
          "mapbox": {
           "style": "light"
          },
          "paper_bgcolor": "white",
          "plot_bgcolor": "#E5ECF6",
          "polar": {
           "angularaxis": {
            "gridcolor": "white",
            "linecolor": "white",
            "ticks": ""
           },
           "bgcolor": "#E5ECF6",
           "radialaxis": {
            "gridcolor": "white",
            "linecolor": "white",
            "ticks": ""
           }
          },
          "scene": {
           "xaxis": {
            "backgroundcolor": "#E5ECF6",
            "gridcolor": "white",
            "gridwidth": 2,
            "linecolor": "white",
            "showbackground": true,
            "ticks": "",
            "zerolinecolor": "white"
           },
           "yaxis": {
            "backgroundcolor": "#E5ECF6",
            "gridcolor": "white",
            "gridwidth": 2,
            "linecolor": "white",
            "showbackground": true,
            "ticks": "",
            "zerolinecolor": "white"
           },
           "zaxis": {
            "backgroundcolor": "#E5ECF6",
            "gridcolor": "white",
            "gridwidth": 2,
            "linecolor": "white",
            "showbackground": true,
            "ticks": "",
            "zerolinecolor": "white"
           }
          },
          "shapedefaults": {
           "line": {
            "color": "#2a3f5f"
           }
          },
          "ternary": {
           "aaxis": {
            "gridcolor": "white",
            "linecolor": "white",
            "ticks": ""
           },
           "baxis": {
            "gridcolor": "white",
            "linecolor": "white",
            "ticks": ""
           },
           "bgcolor": "#E5ECF6",
           "caxis": {
            "gridcolor": "white",
            "linecolor": "white",
            "ticks": ""
           }
          },
          "title": {
           "x": 0.05
          },
          "xaxis": {
           "automargin": true,
           "gridcolor": "white",
           "linecolor": "white",
           "ticks": "",
           "title": {
            "standoff": 15
           },
           "zerolinecolor": "white",
           "zerolinewidth": 2
          },
          "yaxis": {
           "automargin": true,
           "gridcolor": "white",
           "linecolor": "white",
           "ticks": "",
           "title": {
            "standoff": 15
           },
           "zerolinecolor": "white",
           "zerolinewidth": 2
          }
         }
        }
       }
      }
     },
     "metadata": {},
     "output_type": "display_data"
    }
   ],
   "source": [
    "import plotly.graph_objects as go\n",
    "from cmap import Colormap\n",
    "import numpy as np\n",
    "\n",
    "cm = Colormap('viridis')\n",
    "df[\"name\"] = pd.to_numeric(df[\"name\"], errors=\"coerce\")\n",
    "\n",
    "n_names = len(df[\"name\"].unique()) - 1\n",
    "colours = cm(np.linspace(0,1,n_names))\n",
    "\n",
    "fig = go.Figure()\n",
    "for n, df1 in df.groupby(\"name\", dropna=False):\n",
    "    if pd.isna(n):\n",
    "        colour = ['#2e2e2e'] * 2\n",
    "        name = 'seabed'\n",
    "    else:\n",
    "        colour = colours[int(n)]\n",
    "        colour = [f\"rgb{colour[0], colour[1], colour[2]}\"]*2\n",
    "        name = f\"Settled: {int(n)}\"\n",
    "    \n",
    "    fig.add_trace(\n",
    "        go.Bar(\n",
    "            x=df1[\"cell_number\"],\n",
    "            y=df1[\"thickness\"],\n",
    "            base=df1[\"bottom\"],\n",
    "            marker_color=colour,\n",
    "            name=name,\n",
    "            hovertemplate=\"Top: %{y:.2f}m\"\n",
    "            + \"<br>Bottom: %{base:.2f}\"\n",
    "            + \"<br>Thickness: %{customdata[0]:,.2f}\"\n",
    "            + \"<br><b>Cell</b>: %{x}<br>\",\n",
    "            customdata= df1[[\"thickness\"]]\n",
    "        )\n",
    "    )\n",
    "\n",
    "fig.update_layout(barmode=\"stack\")\n",
    "fig.show()\n"
   ]
  },
  {
   "cell_type": "code",
   "execution_count": 6,
   "metadata": {},
   "outputs": [
    {
     "name": "stdout",
     "output_type": "stream",
     "text": [
      "   cell_number    top  bottom     type  name  thickness\n",
      "0            0  0.410   0.300  settled   2.0      0.110\n",
      "1            0  0.300   0.245  settled   1.0      0.055\n",
      "2            0  0.245   0.100  settled   0.0      0.145\n",
      "3            0  0.100  -0.500      bed   NaN      0.600\n",
      "4            1  0.410   0.300  settled   2.0      0.110\n",
      "5            1  0.300   0.245  settled   1.0      0.055\n",
      "6            1  0.245   0.100  settled   0.0      0.145\n",
      "7            1  0.100  -0.500      bed   NaN      0.600\n"
     ]
    },
    {
     "data": {
      "application/vnd.plotly.v1+json": {
       "config": {
        "plotlyServerURL": "https://plot.ly"
       },
       "data": [
        {
         "base": [
          0.3,
          0.245,
          0.1,
          -0.5,
          0.3,
          0.245,
          0.1,
          -0.5
         ],
         "customdata": [
          [
           0.10999999999999999
          ],
          [
           0.05499999999999999
          ],
          [
           0.145
          ],
          [
           0.6
          ],
          [
           0.10999999999999999
          ],
          [
           0.05499999999999999
          ],
          [
           0.145
          ],
          [
           0.6
          ]
         ],
         "hovertemplate": "Top: %{y:.4f}m<br>Bottom: %{base:.4f}<br>Thickness: %{customdata[0]:,.4f}<br><b>Cell</b>: %{x}<br>",
         "marker": {
          "color": [
           2,
           1,
           0,
           null,
           2,
           1,
           0,
           null
          ]
         },
         "type": "bar",
         "x": [
          0,
          0,
          0,
          0,
          1,
          1,
          1,
          1
         ],
         "y": [
          0.10999999999999999,
          0.05499999999999999,
          0.145,
          0.6,
          0.10999999999999999,
          0.05499999999999999,
          0.145,
          0.6
         ]
        }
       ],
       "layout": {
        "barmode": "stack",
        "template": {
         "data": {
          "bar": [
           {
            "error_x": {
             "color": "#2a3f5f"
            },
            "error_y": {
             "color": "#2a3f5f"
            },
            "marker": {
             "line": {
              "color": "#E5ECF6",
              "width": 0.5
             },
             "pattern": {
              "fillmode": "overlay",
              "size": 10,
              "solidity": 0.2
             }
            },
            "type": "bar"
           }
          ],
          "barpolar": [
           {
            "marker": {
             "line": {
              "color": "#E5ECF6",
              "width": 0.5
             },
             "pattern": {
              "fillmode": "overlay",
              "size": 10,
              "solidity": 0.2
             }
            },
            "type": "barpolar"
           }
          ],
          "carpet": [
           {
            "aaxis": {
             "endlinecolor": "#2a3f5f",
             "gridcolor": "white",
             "linecolor": "white",
             "minorgridcolor": "white",
             "startlinecolor": "#2a3f5f"
            },
            "baxis": {
             "endlinecolor": "#2a3f5f",
             "gridcolor": "white",
             "linecolor": "white",
             "minorgridcolor": "white",
             "startlinecolor": "#2a3f5f"
            },
            "type": "carpet"
           }
          ],
          "choropleth": [
           {
            "colorbar": {
             "outlinewidth": 0,
             "ticks": ""
            },
            "type": "choropleth"
           }
          ],
          "contour": [
           {
            "colorbar": {
             "outlinewidth": 0,
             "ticks": ""
            },
            "colorscale": [
             [
              0,
              "#0d0887"
             ],
             [
              0.1111111111111111,
              "#46039f"
             ],
             [
              0.2222222222222222,
              "#7201a8"
             ],
             [
              0.3333333333333333,
              "#9c179e"
             ],
             [
              0.4444444444444444,
              "#bd3786"
             ],
             [
              0.5555555555555556,
              "#d8576b"
             ],
             [
              0.6666666666666666,
              "#ed7953"
             ],
             [
              0.7777777777777778,
              "#fb9f3a"
             ],
             [
              0.8888888888888888,
              "#fdca26"
             ],
             [
              1,
              "#f0f921"
             ]
            ],
            "type": "contour"
           }
          ],
          "contourcarpet": [
           {
            "colorbar": {
             "outlinewidth": 0,
             "ticks": ""
            },
            "type": "contourcarpet"
           }
          ],
          "heatmap": [
           {
            "colorbar": {
             "outlinewidth": 0,
             "ticks": ""
            },
            "colorscale": [
             [
              0,
              "#0d0887"
             ],
             [
              0.1111111111111111,
              "#46039f"
             ],
             [
              0.2222222222222222,
              "#7201a8"
             ],
             [
              0.3333333333333333,
              "#9c179e"
             ],
             [
              0.4444444444444444,
              "#bd3786"
             ],
             [
              0.5555555555555556,
              "#d8576b"
             ],
             [
              0.6666666666666666,
              "#ed7953"
             ],
             [
              0.7777777777777778,
              "#fb9f3a"
             ],
             [
              0.8888888888888888,
              "#fdca26"
             ],
             [
              1,
              "#f0f921"
             ]
            ],
            "type": "heatmap"
           }
          ],
          "heatmapgl": [
           {
            "colorbar": {
             "outlinewidth": 0,
             "ticks": ""
            },
            "colorscale": [
             [
              0,
              "#0d0887"
             ],
             [
              0.1111111111111111,
              "#46039f"
             ],
             [
              0.2222222222222222,
              "#7201a8"
             ],
             [
              0.3333333333333333,
              "#9c179e"
             ],
             [
              0.4444444444444444,
              "#bd3786"
             ],
             [
              0.5555555555555556,
              "#d8576b"
             ],
             [
              0.6666666666666666,
              "#ed7953"
             ],
             [
              0.7777777777777778,
              "#fb9f3a"
             ],
             [
              0.8888888888888888,
              "#fdca26"
             ],
             [
              1,
              "#f0f921"
             ]
            ],
            "type": "heatmapgl"
           }
          ],
          "histogram": [
           {
            "marker": {
             "pattern": {
              "fillmode": "overlay",
              "size": 10,
              "solidity": 0.2
             }
            },
            "type": "histogram"
           }
          ],
          "histogram2d": [
           {
            "colorbar": {
             "outlinewidth": 0,
             "ticks": ""
            },
            "colorscale": [
             [
              0,
              "#0d0887"
             ],
             [
              0.1111111111111111,
              "#46039f"
             ],
             [
              0.2222222222222222,
              "#7201a8"
             ],
             [
              0.3333333333333333,
              "#9c179e"
             ],
             [
              0.4444444444444444,
              "#bd3786"
             ],
             [
              0.5555555555555556,
              "#d8576b"
             ],
             [
              0.6666666666666666,
              "#ed7953"
             ],
             [
              0.7777777777777778,
              "#fb9f3a"
             ],
             [
              0.8888888888888888,
              "#fdca26"
             ],
             [
              1,
              "#f0f921"
             ]
            ],
            "type": "histogram2d"
           }
          ],
          "histogram2dcontour": [
           {
            "colorbar": {
             "outlinewidth": 0,
             "ticks": ""
            },
            "colorscale": [
             [
              0,
              "#0d0887"
             ],
             [
              0.1111111111111111,
              "#46039f"
             ],
             [
              0.2222222222222222,
              "#7201a8"
             ],
             [
              0.3333333333333333,
              "#9c179e"
             ],
             [
              0.4444444444444444,
              "#bd3786"
             ],
             [
              0.5555555555555556,
              "#d8576b"
             ],
             [
              0.6666666666666666,
              "#ed7953"
             ],
             [
              0.7777777777777778,
              "#fb9f3a"
             ],
             [
              0.8888888888888888,
              "#fdca26"
             ],
             [
              1,
              "#f0f921"
             ]
            ],
            "type": "histogram2dcontour"
           }
          ],
          "mesh3d": [
           {
            "colorbar": {
             "outlinewidth": 0,
             "ticks": ""
            },
            "type": "mesh3d"
           }
          ],
          "parcoords": [
           {
            "line": {
             "colorbar": {
              "outlinewidth": 0,
              "ticks": ""
             }
            },
            "type": "parcoords"
           }
          ],
          "pie": [
           {
            "automargin": true,
            "type": "pie"
           }
          ],
          "scatter": [
           {
            "fillpattern": {
             "fillmode": "overlay",
             "size": 10,
             "solidity": 0.2
            },
            "type": "scatter"
           }
          ],
          "scatter3d": [
           {
            "line": {
             "colorbar": {
              "outlinewidth": 0,
              "ticks": ""
             }
            },
            "marker": {
             "colorbar": {
              "outlinewidth": 0,
              "ticks": ""
             }
            },
            "type": "scatter3d"
           }
          ],
          "scattercarpet": [
           {
            "marker": {
             "colorbar": {
              "outlinewidth": 0,
              "ticks": ""
             }
            },
            "type": "scattercarpet"
           }
          ],
          "scattergeo": [
           {
            "marker": {
             "colorbar": {
              "outlinewidth": 0,
              "ticks": ""
             }
            },
            "type": "scattergeo"
           }
          ],
          "scattergl": [
           {
            "marker": {
             "colorbar": {
              "outlinewidth": 0,
              "ticks": ""
             }
            },
            "type": "scattergl"
           }
          ],
          "scattermapbox": [
           {
            "marker": {
             "colorbar": {
              "outlinewidth": 0,
              "ticks": ""
             }
            },
            "type": "scattermapbox"
           }
          ],
          "scatterpolar": [
           {
            "marker": {
             "colorbar": {
              "outlinewidth": 0,
              "ticks": ""
             }
            },
            "type": "scatterpolar"
           }
          ],
          "scatterpolargl": [
           {
            "marker": {
             "colorbar": {
              "outlinewidth": 0,
              "ticks": ""
             }
            },
            "type": "scatterpolargl"
           }
          ],
          "scatterternary": [
           {
            "marker": {
             "colorbar": {
              "outlinewidth": 0,
              "ticks": ""
             }
            },
            "type": "scatterternary"
           }
          ],
          "surface": [
           {
            "colorbar": {
             "outlinewidth": 0,
             "ticks": ""
            },
            "colorscale": [
             [
              0,
              "#0d0887"
             ],
             [
              0.1111111111111111,
              "#46039f"
             ],
             [
              0.2222222222222222,
              "#7201a8"
             ],
             [
              0.3333333333333333,
              "#9c179e"
             ],
             [
              0.4444444444444444,
              "#bd3786"
             ],
             [
              0.5555555555555556,
              "#d8576b"
             ],
             [
              0.6666666666666666,
              "#ed7953"
             ],
             [
              0.7777777777777778,
              "#fb9f3a"
             ],
             [
              0.8888888888888888,
              "#fdca26"
             ],
             [
              1,
              "#f0f921"
             ]
            ],
            "type": "surface"
           }
          ],
          "table": [
           {
            "cells": {
             "fill": {
              "color": "#EBF0F8"
             },
             "line": {
              "color": "white"
             }
            },
            "header": {
             "fill": {
              "color": "#C8D4E3"
             },
             "line": {
              "color": "white"
             }
            },
            "type": "table"
           }
          ]
         },
         "layout": {
          "annotationdefaults": {
           "arrowcolor": "#2a3f5f",
           "arrowhead": 0,
           "arrowwidth": 1
          },
          "autotypenumbers": "strict",
          "coloraxis": {
           "colorbar": {
            "outlinewidth": 0,
            "ticks": ""
           }
          },
          "colorscale": {
           "diverging": [
            [
             0,
             "#8e0152"
            ],
            [
             0.1,
             "#c51b7d"
            ],
            [
             0.2,
             "#de77ae"
            ],
            [
             0.3,
             "#f1b6da"
            ],
            [
             0.4,
             "#fde0ef"
            ],
            [
             0.5,
             "#f7f7f7"
            ],
            [
             0.6,
             "#e6f5d0"
            ],
            [
             0.7,
             "#b8e186"
            ],
            [
             0.8,
             "#7fbc41"
            ],
            [
             0.9,
             "#4d9221"
            ],
            [
             1,
             "#276419"
            ]
           ],
           "sequential": [
            [
             0,
             "#0d0887"
            ],
            [
             0.1111111111111111,
             "#46039f"
            ],
            [
             0.2222222222222222,
             "#7201a8"
            ],
            [
             0.3333333333333333,
             "#9c179e"
            ],
            [
             0.4444444444444444,
             "#bd3786"
            ],
            [
             0.5555555555555556,
             "#d8576b"
            ],
            [
             0.6666666666666666,
             "#ed7953"
            ],
            [
             0.7777777777777778,
             "#fb9f3a"
            ],
            [
             0.8888888888888888,
             "#fdca26"
            ],
            [
             1,
             "#f0f921"
            ]
           ],
           "sequentialminus": [
            [
             0,
             "#0d0887"
            ],
            [
             0.1111111111111111,
             "#46039f"
            ],
            [
             0.2222222222222222,
             "#7201a8"
            ],
            [
             0.3333333333333333,
             "#9c179e"
            ],
            [
             0.4444444444444444,
             "#bd3786"
            ],
            [
             0.5555555555555556,
             "#d8576b"
            ],
            [
             0.6666666666666666,
             "#ed7953"
            ],
            [
             0.7777777777777778,
             "#fb9f3a"
            ],
            [
             0.8888888888888888,
             "#fdca26"
            ],
            [
             1,
             "#f0f921"
            ]
           ]
          },
          "colorway": [
           "#636efa",
           "#EF553B",
           "#00cc96",
           "#ab63fa",
           "#FFA15A",
           "#19d3f3",
           "#FF6692",
           "#B6E880",
           "#FF97FF",
           "#FECB52"
          ],
          "font": {
           "color": "#2a3f5f"
          },
          "geo": {
           "bgcolor": "white",
           "lakecolor": "white",
           "landcolor": "#E5ECF6",
           "showlakes": true,
           "showland": true,
           "subunitcolor": "white"
          },
          "hoverlabel": {
           "align": "left"
          },
          "hovermode": "closest",
          "mapbox": {
           "style": "light"
          },
          "paper_bgcolor": "white",
          "plot_bgcolor": "#E5ECF6",
          "polar": {
           "angularaxis": {
            "gridcolor": "white",
            "linecolor": "white",
            "ticks": ""
           },
           "bgcolor": "#E5ECF6",
           "radialaxis": {
            "gridcolor": "white",
            "linecolor": "white",
            "ticks": ""
           }
          },
          "scene": {
           "xaxis": {
            "backgroundcolor": "#E5ECF6",
            "gridcolor": "white",
            "gridwidth": 2,
            "linecolor": "white",
            "showbackground": true,
            "ticks": "",
            "zerolinecolor": "white"
           },
           "yaxis": {
            "backgroundcolor": "#E5ECF6",
            "gridcolor": "white",
            "gridwidth": 2,
            "linecolor": "white",
            "showbackground": true,
            "ticks": "",
            "zerolinecolor": "white"
           },
           "zaxis": {
            "backgroundcolor": "#E5ECF6",
            "gridcolor": "white",
            "gridwidth": 2,
            "linecolor": "white",
            "showbackground": true,
            "ticks": "",
            "zerolinecolor": "white"
           }
          },
          "shapedefaults": {
           "line": {
            "color": "#2a3f5f"
           }
          },
          "ternary": {
           "aaxis": {
            "gridcolor": "white",
            "linecolor": "white",
            "ticks": ""
           },
           "baxis": {
            "gridcolor": "white",
            "linecolor": "white",
            "ticks": ""
           },
           "bgcolor": "#E5ECF6",
           "caxis": {
            "gridcolor": "white",
            "linecolor": "white",
            "ticks": ""
           }
          },
          "title": {
           "x": 0.05
          },
          "xaxis": {
           "automargin": true,
           "gridcolor": "white",
           "linecolor": "white",
           "ticks": "",
           "title": {
            "standoff": 15
           },
           "zerolinecolor": "white",
           "zerolinewidth": 2
          },
          "yaxis": {
           "automargin": true,
           "gridcolor": "white",
           "linecolor": "white",
           "ticks": "",
           "title": {
            "standoff": 15
           },
           "zerolinecolor": "white",
           "zerolinewidth": 2
          }
         }
        }
       }
      }
     },
     "metadata": {},
     "output_type": "display_data"
    }
   ],
   "source": [
    "import plotly.graph_objects as go\n",
    "\n",
    "# Although this method works you cannot specify a name for each horizon.\n",
    "\n",
    "\n",
    "df[\"name\"] = pd.to_numeric(df[\"name\"], errors=\"coerce\")\n",
    "\n",
    "fig = go.Figure()\n",
    "print(df)\n",
    "fig.add_trace(\n",
    "    go.Bar(\n",
    "        x=df[\"cell_number\"],\n",
    "        y=df[\"thickness\"],\n",
    "        base=df[\"bottom\"],\n",
    "        marker_color=df[\"name\"],\n",
    "        hovertemplate=\"Top: %{y:.4f}m\"\n",
    "            + \"<br>Bottom: %{base:.4f}\"\n",
    "            + \"<br>Thickness: %{customdata[0]:,.4f}\"\n",
    "            + \"<br><b>Cell</b>: %{x}<br>\",\n",
    "            customdata= df[[\"thickness\"]],\n",
    "    )\n",
    ")\n",
    "fig.update_layout(barmode=\"stack\")\n",
    "fig.show()"
   ]
  },
  {
   "cell_type": "markdown",
   "metadata": {},
   "source": [
    "### Testing very thin bars"
   ]
  },
  {
   "cell_type": "code",
   "execution_count": 7,
   "metadata": {},
   "outputs": [
    {
     "name": "stdout",
     "output_type": "stream",
     "text": [
      "         top  bottom     type name  origin_cell  cell_number  thickness  \\\n",
      "44 -0.070833    -0.1  settled    0         22.0           22   0.029167   \n",
      "\n",
      "    proximity  \n",
      "44        0.0  \n",
      "         top  bottom     type name  origin_cell  cell_number  thickness  \\\n",
      "42  0.013125     0.0  settled    0         22.0           21   0.013125   \n",
      "46  0.013125     0.0  settled    0         22.0           23   0.013125   \n",
      "\n",
      "    proximity  \n",
      "42        1.0  \n",
      "46        1.0  \n",
      "         top  bottom     type name  origin_cell  cell_number  thickness  \\\n",
      "40  0.011813     0.0  settled    0         22.0           20   0.011813   \n",
      "48  0.011813     0.0  settled    0         22.0           24   0.011813   \n",
      "\n",
      "    proximity  \n",
      "40        2.0  \n",
      "48        2.0  \n",
      "         top  bottom     type name  origin_cell  cell_number  thickness  \\\n",
      "38  0.010631     0.0  settled    0         22.0           19   0.010631   \n",
      "50  0.010631     0.0  settled    0         22.0           25   0.010631   \n",
      "\n",
      "    proximity  \n",
      "38        3.0  \n",
      "50        3.0  \n",
      "         top  bottom     type name  origin_cell  cell_number  thickness  \\\n",
      "36  0.009568     0.0  settled    0         22.0           18   0.009568   \n",
      "52  0.009568     0.0  settled    0         22.0           26   0.009568   \n",
      "\n",
      "    proximity  \n",
      "36        4.0  \n",
      "52        4.0  \n",
      "         top  bottom     type name  origin_cell  cell_number  thickness  \\\n",
      "34  0.008611     0.0  settled    0         22.0           17   0.008611   \n",
      "54  0.008611     0.0  settled    0         22.0           27   0.008611   \n",
      "\n",
      "    proximity  \n",
      "34        5.0  \n",
      "54        5.0  \n",
      "        top  bottom     type name  origin_cell  cell_number  thickness  \\\n",
      "32  0.00775     0.0  settled    0         22.0           16    0.00775   \n",
      "56  0.00775     0.0  settled    0         22.0           28    0.00775   \n",
      "\n",
      "    proximity  \n",
      "32        6.0  \n",
      "56        6.0  \n",
      "         top  bottom     type name  origin_cell  cell_number  thickness  \\\n",
      "30  0.006975     0.0  settled    0         22.0           15   0.006975   \n",
      "58  0.006975     0.0  settled    0         22.0           29   0.006975   \n",
      "\n",
      "    proximity  \n",
      "30        7.0  \n",
      "58        7.0  \n",
      "         top  bottom     type name  origin_cell  cell_number  thickness  \\\n",
      "28  0.006278     0.0  settled    0         22.0           14   0.006278   \n",
      "60  0.006278     0.0  settled    0         22.0           30   0.006278   \n",
      "\n",
      "    proximity  \n",
      "28        8.0  \n",
      "60        8.0  \n",
      "        top  bottom     type name  origin_cell  cell_number  thickness  \\\n",
      "26  0.00565     0.0  settled    0         22.0           13    0.00565   \n",
      "62  0.00565     0.0  settled    0         22.0           31    0.00565   \n",
      "\n",
      "    proximity  \n",
      "26        9.0  \n",
      "62        9.0  \n",
      "         top  bottom     type name  origin_cell  cell_number  thickness  \\\n",
      "24  0.005085     0.0  settled    0         22.0           12   0.005085   \n",
      "64  0.005085     0.0  settled    0         22.0           32   0.005085   \n",
      "\n",
      "    proximity  \n",
      "24       10.0  \n",
      "64       10.0  \n",
      "         top  bottom     type name  origin_cell  cell_number  thickness  \\\n",
      "22  0.004576     0.0  settled    0         22.0           11   0.004576   \n",
      "66  0.004576     0.0  settled    0         22.0           33   0.004576   \n",
      "\n",
      "    proximity  \n",
      "22       11.0  \n",
      "66       11.0  \n",
      "         top  bottom     type name  origin_cell  cell_number  thickness  \\\n",
      "20  0.004119     0.0  settled    0         22.0           10   0.004119   \n",
      "68  0.004119     0.0  settled    0         22.0           34   0.004119   \n",
      "\n",
      "    proximity  \n",
      "20       12.0  \n",
      "68       12.0  \n",
      "         top  bottom     type name  origin_cell  cell_number  thickness  \\\n",
      "18  0.003707     0.0  settled    0         22.0            9   0.003707   \n",
      "70  0.003707     0.0  settled    0         22.0           35   0.003707   \n",
      "\n",
      "    proximity  \n",
      "18       13.0  \n",
      "70       13.0  \n",
      "         top  bottom     type name  origin_cell  cell_number  thickness  \\\n",
      "16  0.003336     0.0  settled    0         22.0            8   0.003336   \n",
      "72  0.003336     0.0  settled    0         22.0           36   0.003336   \n",
      "\n",
      "    proximity  \n",
      "16       14.0  \n",
      "72       14.0  \n",
      "         top  bottom     type name  origin_cell  cell_number  thickness  \\\n",
      "14  0.003003     0.0  settled    0         22.0            7   0.003003   \n",
      "74  0.003003     0.0  settled    0         22.0           37   0.003003   \n",
      "\n",
      "    proximity  \n",
      "14       15.0  \n",
      "74       15.0  \n",
      "         top  bottom     type name  origin_cell  cell_number  thickness  \\\n",
      "12  0.002702     0.0  settled    0         22.0            6   0.002702   \n",
      "76  0.002702     0.0  settled    0         22.0           38   0.002702   \n",
      "\n",
      "    proximity  \n",
      "12       16.0  \n",
      "76       16.0  \n",
      "         top  bottom     type name  origin_cell  cell_number  thickness  \\\n",
      "10  0.002432     0.0  settled    0         22.0            5   0.002432   \n",
      "78  0.002432     0.0  settled    0         22.0           39   0.002432   \n",
      "\n",
      "    proximity  \n",
      "10       17.0  \n",
      "78       17.0  \n",
      "         top  bottom     type name  origin_cell  cell_number  thickness  \\\n",
      "8   0.002189     0.0  settled    0         22.0            4   0.002189   \n",
      "80  0.002189     0.0  settled    0         22.0           40   0.002189   \n",
      "\n",
      "    proximity  \n",
      "8        18.0  \n",
      "80       18.0  \n",
      "        top  bottom     type name  origin_cell  cell_number  thickness  \\\n",
      "6   0.00197     0.0  settled    0         22.0            3    0.00197   \n",
      "82  0.00197     0.0  settled    0         22.0           41    0.00197   \n",
      "\n",
      "    proximity  \n",
      "6        19.0  \n",
      "82       19.0  \n",
      "         top  bottom     type name  origin_cell  cell_number  thickness  \\\n",
      "4   0.001773     0.0  settled    0         22.0            2   0.001773   \n",
      "84  0.001773     0.0  settled    0         22.0           42   0.001773   \n",
      "\n",
      "    proximity  \n",
      "4        20.0  \n",
      "84       20.0  \n",
      "         top  bottom     type name  origin_cell  cell_number  thickness  \\\n",
      "2   0.001596     0.0  settled    0         22.0            1   0.001596   \n",
      "86  0.001596     0.0  settled    0         22.0           43   0.001596   \n",
      "\n",
      "    proximity  \n",
      "2        21.0  \n",
      "86       21.0  \n",
      "         top  bottom     type name  origin_cell  cell_number  thickness  \\\n",
      "0   0.001436     0.0  settled    0         22.0            0   0.001436   \n",
      "88  0.001436     0.0  settled    0         22.0           44   0.001436   \n",
      "\n",
      "    proximity  \n",
      "0        22.0  \n",
      "88       22.0  \n",
      "         top  bottom     type name  origin_cell  cell_number  thickness  \\\n",
      "90  0.001293     0.0  settled    0         22.0           45   0.001293   \n",
      "\n",
      "    proximity  \n",
      "90       23.0  \n",
      "         top  bottom     type name  origin_cell  cell_number  thickness  \\\n",
      "92  0.001163     0.0  settled    0         22.0           46   0.001163   \n",
      "\n",
      "    proximity  \n",
      "92       24.0  \n",
      "         top  bottom     type name  origin_cell  cell_number  thickness  \\\n",
      "94  0.001047     0.0  settled    0         22.0           47   0.001047   \n",
      "\n",
      "    proximity  \n",
      "94       25.0  \n",
      "         top  bottom     type name  origin_cell  cell_number  thickness  \\\n",
      "96  0.000942     0.0  settled    0         22.0           48   0.000942   \n",
      "\n",
      "    proximity  \n",
      "96       26.0  \n",
      "         top  bottom     type name  origin_cell  cell_number  thickness  \\\n",
      "98  0.000848     0.0  settled    0         22.0           49   0.000848   \n",
      "\n",
      "    proximity  \n",
      "98       27.0  \n",
      "    top  bottom type      name  origin_cell  cell_number  thickness  proximity\n",
      "1   0.0    -0.2  bed  existing          NaN            0        0.2        NaN\n",
      "3   0.0    -0.2  bed  existing          NaN            1        0.2        NaN\n",
      "5   0.0    -0.2  bed  existing          NaN            2        0.2        NaN\n",
      "7   0.0    -0.2  bed  existing          NaN            3        0.2        NaN\n",
      "9   0.0    -0.2  bed  existing          NaN            4        0.2        NaN\n",
      "11  0.0    -0.2  bed  existing          NaN            5        0.2        NaN\n",
      "13  0.0    -0.2  bed  existing          NaN            6        0.2        NaN\n",
      "15  0.0    -0.2  bed  existing          NaN            7        0.2        NaN\n",
      "17  0.0    -0.2  bed  existing          NaN            8        0.2        NaN\n",
      "19  0.0    -0.2  bed  existing          NaN            9        0.2        NaN\n",
      "21  0.0    -0.2  bed  existing          NaN           10        0.2        NaN\n",
      "23  0.0    -0.2  bed  existing          NaN           11        0.2        NaN\n",
      "25  0.0    -0.2  bed  existing          NaN           12        0.2        NaN\n",
      "27  0.0    -0.2  bed  existing          NaN           13        0.2        NaN\n",
      "29  0.0    -0.2  bed  existing          NaN           14        0.2        NaN\n",
      "31  0.0    -0.2  bed  existing          NaN           15        0.2        NaN\n",
      "33  0.0    -0.2  bed  existing          NaN           16        0.2        NaN\n",
      "35  0.0    -0.2  bed  existing          NaN           17        0.2        NaN\n",
      "37  0.0    -0.2  bed  existing          NaN           18        0.2        NaN\n",
      "39  0.0    -0.2  bed  existing          NaN           19        0.2        NaN\n",
      "41  0.0    -0.2  bed  existing          NaN           20        0.2        NaN\n",
      "43  0.0    -0.2  bed  existing          NaN           21        0.2        NaN\n",
      "45 -0.1    -0.2  bed  existing          NaN           22        0.1        NaN\n",
      "47  0.0    -0.2  bed  existing          NaN           23        0.2        NaN\n",
      "49  0.0    -0.2  bed  existing          NaN           24        0.2        NaN\n",
      "51  0.0    -0.2  bed  existing          NaN           25        0.2        NaN\n",
      "53  0.0    -0.2  bed  existing          NaN           26        0.2        NaN\n",
      "55  0.0    -0.2  bed  existing          NaN           27        0.2        NaN\n",
      "57  0.0    -0.2  bed  existing          NaN           28        0.2        NaN\n",
      "59  0.0    -0.2  bed  existing          NaN           29        0.2        NaN\n",
      "61  0.0    -0.2  bed  existing          NaN           30        0.2        NaN\n",
      "63  0.0    -0.2  bed  existing          NaN           31        0.2        NaN\n",
      "65  0.0    -0.2  bed  existing          NaN           32        0.2        NaN\n",
      "67  0.0    -0.2  bed  existing          NaN           33        0.2        NaN\n",
      "69  0.0    -0.2  bed  existing          NaN           34        0.2        NaN\n",
      "71  0.0    -0.2  bed  existing          NaN           35        0.2        NaN\n",
      "73  0.0    -0.2  bed  existing          NaN           36        0.2        NaN\n",
      "75  0.0    -0.2  bed  existing          NaN           37        0.2        NaN\n",
      "77  0.0    -0.2  bed  existing          NaN           38        0.2        NaN\n",
      "79  0.0    -0.2  bed  existing          NaN           39        0.2        NaN\n",
      "81  0.0    -0.2  bed  existing          NaN           40        0.2        NaN\n",
      "83  0.0    -0.2  bed  existing          NaN           41        0.2        NaN\n",
      "85  0.0    -0.2  bed  existing          NaN           42        0.2        NaN\n",
      "87  0.0    -0.2  bed  existing          NaN           43        0.2        NaN\n",
      "89  0.0    -0.2  bed  existing          NaN           44        0.2        NaN\n",
      "91  0.0    -0.2  bed  existing          NaN           45        0.2        NaN\n",
      "93  0.0    -0.2  bed  existing          NaN           46        0.2        NaN\n",
      "95  0.0    -0.2  bed  existing          NaN           47        0.2        NaN\n",
      "97  0.0    -0.2  bed  existing          NaN           48        0.2        NaN\n",
      "99  0.0    -0.2  bed  existing          NaN           49        0.2        NaN\n"
     ]
    },
    {
     "data": {
      "application/vnd.plotly.v1+json": {
       "config": {
        "plotlyServerURL": "https://plot.ly"
       },
       "data": [
        {
         "base": [
          -0.1
         ],
         "customdata": [
          [
           0.029166666666666674
          ]
         ],
         "hovertemplate": "Top: %{y:.5f}m<br>Bottom: %{base:.5f}m<br>Thickness: %{customdata[0]:,.5f}m<br>Name: Settled 0<br><b>Cell</b>: %{x}<br>",
         "marker": {
          "color": [
           "rgb(0.267004, 0.004874, 0.329415)",
           "rgb(0.267004, 0.004874, 0.329415)",
           "rgb(0.267004, 0.004874, 0.329415)",
           "rgb(0.267004, 0.004874, 0.329415)",
           "rgb(0.267004, 0.004874, 0.329415)",
           "rgb(0.267004, 0.004874, 0.329415)",
           "rgb(0.267004, 0.004874, 0.329415)",
           "rgb(0.267004, 0.004874, 0.329415)",
           "rgb(0.267004, 0.004874, 0.329415)",
           "rgb(0.267004, 0.004874, 0.329415)",
           "rgb(0.267004, 0.004874, 0.329415)",
           "rgb(0.267004, 0.004874, 0.329415)",
           "rgb(0.267004, 0.004874, 0.329415)",
           "rgb(0.267004, 0.004874, 0.329415)",
           "rgb(0.267004, 0.004874, 0.329415)",
           "rgb(0.267004, 0.004874, 0.329415)",
           "rgb(0.267004, 0.004874, 0.329415)",
           "rgb(0.267004, 0.004874, 0.329415)",
           "rgb(0.267004, 0.004874, 0.329415)",
           "rgb(0.267004, 0.004874, 0.329415)",
           "rgb(0.267004, 0.004874, 0.329415)",
           "rgb(0.267004, 0.004874, 0.329415)",
           "rgb(0.267004, 0.004874, 0.329415)",
           "rgb(0.267004, 0.004874, 0.329415)",
           "rgb(0.267004, 0.004874, 0.329415)",
           "rgb(0.267004, 0.004874, 0.329415)",
           "rgb(0.267004, 0.004874, 0.329415)",
           "rgb(0.267004, 0.004874, 0.329415)",
           "rgb(0.267004, 0.004874, 0.329415)",
           "rgb(0.267004, 0.004874, 0.329415)",
           "rgb(0.267004, 0.004874, 0.329415)",
           "rgb(0.267004, 0.004874, 0.329415)",
           "rgb(0.267004, 0.004874, 0.329415)",
           "rgb(0.267004, 0.004874, 0.329415)",
           "rgb(0.267004, 0.004874, 0.329415)",
           "rgb(0.267004, 0.004874, 0.329415)",
           "rgb(0.267004, 0.004874, 0.329415)",
           "rgb(0.267004, 0.004874, 0.329415)",
           "rgb(0.267004, 0.004874, 0.329415)",
           "rgb(0.267004, 0.004874, 0.329415)",
           "rgb(0.267004, 0.004874, 0.329415)",
           "rgb(0.267004, 0.004874, 0.329415)",
           "rgb(0.267004, 0.004874, 0.329415)",
           "rgb(0.267004, 0.004874, 0.329415)",
           "rgb(0.267004, 0.004874, 0.329415)",
           "rgb(0.267004, 0.004874, 0.329415)",
           "rgb(0.267004, 0.004874, 0.329415)",
           "rgb(0.267004, 0.004874, 0.329415)",
           "rgb(0.267004, 0.004874, 0.329415)",
           "rgb(0.267004, 0.004874, 0.329415)"
          ],
          "line": {
           "width": 0
          }
         },
         "name": "Settled 0",
         "type": "bar",
         "width": 1,
         "x": [
          22
         ],
         "y": [
          0.029166666666666674
         ]
        },
        {
         "base": [
          0,
          0
         ],
         "customdata": [
          [
           0.013125000000000001
          ],
          [
           0.013125000000000001
          ]
         ],
         "hovertemplate": "Top: %{y:.5f}m<br>Bottom: %{base:.5f}m<br>Thickness: %{customdata[0]:,.5f}m<br>Name: Settled 1<br><b>Cell</b>: %{x}<br>",
         "marker": {
          "color": [
           "rgb(0.277941, 0.056324, 0.381191)",
           "rgb(0.277941, 0.056324, 0.381191)",
           "rgb(0.277941, 0.056324, 0.381191)",
           "rgb(0.277941, 0.056324, 0.381191)",
           "rgb(0.277941, 0.056324, 0.381191)",
           "rgb(0.277941, 0.056324, 0.381191)",
           "rgb(0.277941, 0.056324, 0.381191)",
           "rgb(0.277941, 0.056324, 0.381191)",
           "rgb(0.277941, 0.056324, 0.381191)",
           "rgb(0.277941, 0.056324, 0.381191)",
           "rgb(0.277941, 0.056324, 0.381191)",
           "rgb(0.277941, 0.056324, 0.381191)",
           "rgb(0.277941, 0.056324, 0.381191)",
           "rgb(0.277941, 0.056324, 0.381191)",
           "rgb(0.277941, 0.056324, 0.381191)",
           "rgb(0.277941, 0.056324, 0.381191)",
           "rgb(0.277941, 0.056324, 0.381191)",
           "rgb(0.277941, 0.056324, 0.381191)",
           "rgb(0.277941, 0.056324, 0.381191)",
           "rgb(0.277941, 0.056324, 0.381191)",
           "rgb(0.277941, 0.056324, 0.381191)",
           "rgb(0.277941, 0.056324, 0.381191)",
           "rgb(0.277941, 0.056324, 0.381191)",
           "rgb(0.277941, 0.056324, 0.381191)",
           "rgb(0.277941, 0.056324, 0.381191)",
           "rgb(0.277941, 0.056324, 0.381191)",
           "rgb(0.277941, 0.056324, 0.381191)",
           "rgb(0.277941, 0.056324, 0.381191)",
           "rgb(0.277941, 0.056324, 0.381191)",
           "rgb(0.277941, 0.056324, 0.381191)",
           "rgb(0.277941, 0.056324, 0.381191)",
           "rgb(0.277941, 0.056324, 0.381191)",
           "rgb(0.277941, 0.056324, 0.381191)",
           "rgb(0.277941, 0.056324, 0.381191)",
           "rgb(0.277941, 0.056324, 0.381191)",
           "rgb(0.277941, 0.056324, 0.381191)",
           "rgb(0.277941, 0.056324, 0.381191)",
           "rgb(0.277941, 0.056324, 0.381191)",
           "rgb(0.277941, 0.056324, 0.381191)",
           "rgb(0.277941, 0.056324, 0.381191)",
           "rgb(0.277941, 0.056324, 0.381191)",
           "rgb(0.277941, 0.056324, 0.381191)",
           "rgb(0.277941, 0.056324, 0.381191)",
           "rgb(0.277941, 0.056324, 0.381191)",
           "rgb(0.277941, 0.056324, 0.381191)",
           "rgb(0.277941, 0.056324, 0.381191)",
           "rgb(0.277941, 0.056324, 0.381191)",
           "rgb(0.277941, 0.056324, 0.381191)",
           "rgb(0.277941, 0.056324, 0.381191)",
           "rgb(0.277941, 0.056324, 0.381191)"
          ],
          "line": {
           "width": 0
          }
         },
         "name": "Settled 1",
         "type": "bar",
         "width": 1,
         "x": [
          21,
          23
         ],
         "y": [
          0.013125000000000001,
          0.013125000000000001
         ]
        },
        {
         "base": [
          0,
          0
         ],
         "customdata": [
          [
           0.011812500000000002
          ],
          [
           0.011812500000000002
          ]
         ],
         "hovertemplate": "Top: %{y:.5f}m<br>Bottom: %{base:.5f}m<br>Thickness: %{customdata[0]:,.5f}m<br>Name: Settled 2<br><b>Cell</b>: %{x}<br>",
         "marker": {
          "color": [
           "rgb(0.28291, 0.105393, 0.426902)",
           "rgb(0.28291, 0.105393, 0.426902)",
           "rgb(0.28291, 0.105393, 0.426902)",
           "rgb(0.28291, 0.105393, 0.426902)",
           "rgb(0.28291, 0.105393, 0.426902)",
           "rgb(0.28291, 0.105393, 0.426902)",
           "rgb(0.28291, 0.105393, 0.426902)",
           "rgb(0.28291, 0.105393, 0.426902)",
           "rgb(0.28291, 0.105393, 0.426902)",
           "rgb(0.28291, 0.105393, 0.426902)",
           "rgb(0.28291, 0.105393, 0.426902)",
           "rgb(0.28291, 0.105393, 0.426902)",
           "rgb(0.28291, 0.105393, 0.426902)",
           "rgb(0.28291, 0.105393, 0.426902)",
           "rgb(0.28291, 0.105393, 0.426902)",
           "rgb(0.28291, 0.105393, 0.426902)",
           "rgb(0.28291, 0.105393, 0.426902)",
           "rgb(0.28291, 0.105393, 0.426902)",
           "rgb(0.28291, 0.105393, 0.426902)",
           "rgb(0.28291, 0.105393, 0.426902)",
           "rgb(0.28291, 0.105393, 0.426902)",
           "rgb(0.28291, 0.105393, 0.426902)",
           "rgb(0.28291, 0.105393, 0.426902)",
           "rgb(0.28291, 0.105393, 0.426902)",
           "rgb(0.28291, 0.105393, 0.426902)",
           "rgb(0.28291, 0.105393, 0.426902)",
           "rgb(0.28291, 0.105393, 0.426902)",
           "rgb(0.28291, 0.105393, 0.426902)",
           "rgb(0.28291, 0.105393, 0.426902)",
           "rgb(0.28291, 0.105393, 0.426902)",
           "rgb(0.28291, 0.105393, 0.426902)",
           "rgb(0.28291, 0.105393, 0.426902)",
           "rgb(0.28291, 0.105393, 0.426902)",
           "rgb(0.28291, 0.105393, 0.426902)",
           "rgb(0.28291, 0.105393, 0.426902)",
           "rgb(0.28291, 0.105393, 0.426902)",
           "rgb(0.28291, 0.105393, 0.426902)",
           "rgb(0.28291, 0.105393, 0.426902)",
           "rgb(0.28291, 0.105393, 0.426902)",
           "rgb(0.28291, 0.105393, 0.426902)",
           "rgb(0.28291, 0.105393, 0.426902)",
           "rgb(0.28291, 0.105393, 0.426902)",
           "rgb(0.28291, 0.105393, 0.426902)",
           "rgb(0.28291, 0.105393, 0.426902)",
           "rgb(0.28291, 0.105393, 0.426902)",
           "rgb(0.28291, 0.105393, 0.426902)",
           "rgb(0.28291, 0.105393, 0.426902)",
           "rgb(0.28291, 0.105393, 0.426902)",
           "rgb(0.28291, 0.105393, 0.426902)",
           "rgb(0.28291, 0.105393, 0.426902)"
          ],
          "line": {
           "width": 0
          }
         },
         "name": "Settled 2",
         "type": "bar",
         "width": 1,
         "x": [
          20,
          24
         ],
         "y": [
          0.011812500000000002,
          0.011812500000000002
         ]
        },
        {
         "base": [
          0,
          0
         ],
         "customdata": [
          [
           0.010631250000000002
          ],
          [
           0.010631250000000002
          ]
         ],
         "hovertemplate": "Top: %{y:.5f}m<br>Bottom: %{base:.5f}m<br>Thickness: %{customdata[0]:,.5f}m<br>Name: Settled 3<br><b>Cell</b>: %{x}<br>",
         "marker": {
          "color": [
           "rgb(0.281412, 0.155834, 0.469201)",
           "rgb(0.281412, 0.155834, 0.469201)",
           "rgb(0.281412, 0.155834, 0.469201)",
           "rgb(0.281412, 0.155834, 0.469201)",
           "rgb(0.281412, 0.155834, 0.469201)",
           "rgb(0.281412, 0.155834, 0.469201)",
           "rgb(0.281412, 0.155834, 0.469201)",
           "rgb(0.281412, 0.155834, 0.469201)",
           "rgb(0.281412, 0.155834, 0.469201)",
           "rgb(0.281412, 0.155834, 0.469201)",
           "rgb(0.281412, 0.155834, 0.469201)",
           "rgb(0.281412, 0.155834, 0.469201)",
           "rgb(0.281412, 0.155834, 0.469201)",
           "rgb(0.281412, 0.155834, 0.469201)",
           "rgb(0.281412, 0.155834, 0.469201)",
           "rgb(0.281412, 0.155834, 0.469201)",
           "rgb(0.281412, 0.155834, 0.469201)",
           "rgb(0.281412, 0.155834, 0.469201)",
           "rgb(0.281412, 0.155834, 0.469201)",
           "rgb(0.281412, 0.155834, 0.469201)",
           "rgb(0.281412, 0.155834, 0.469201)",
           "rgb(0.281412, 0.155834, 0.469201)",
           "rgb(0.281412, 0.155834, 0.469201)",
           "rgb(0.281412, 0.155834, 0.469201)",
           "rgb(0.281412, 0.155834, 0.469201)",
           "rgb(0.281412, 0.155834, 0.469201)",
           "rgb(0.281412, 0.155834, 0.469201)",
           "rgb(0.281412, 0.155834, 0.469201)",
           "rgb(0.281412, 0.155834, 0.469201)",
           "rgb(0.281412, 0.155834, 0.469201)",
           "rgb(0.281412, 0.155834, 0.469201)",
           "rgb(0.281412, 0.155834, 0.469201)",
           "rgb(0.281412, 0.155834, 0.469201)",
           "rgb(0.281412, 0.155834, 0.469201)",
           "rgb(0.281412, 0.155834, 0.469201)",
           "rgb(0.281412, 0.155834, 0.469201)",
           "rgb(0.281412, 0.155834, 0.469201)",
           "rgb(0.281412, 0.155834, 0.469201)",
           "rgb(0.281412, 0.155834, 0.469201)",
           "rgb(0.281412, 0.155834, 0.469201)",
           "rgb(0.281412, 0.155834, 0.469201)",
           "rgb(0.281412, 0.155834, 0.469201)",
           "rgb(0.281412, 0.155834, 0.469201)",
           "rgb(0.281412, 0.155834, 0.469201)",
           "rgb(0.281412, 0.155834, 0.469201)",
           "rgb(0.281412, 0.155834, 0.469201)",
           "rgb(0.281412, 0.155834, 0.469201)",
           "rgb(0.281412, 0.155834, 0.469201)",
           "rgb(0.281412, 0.155834, 0.469201)",
           "rgb(0.281412, 0.155834, 0.469201)"
          ],
          "line": {
           "width": 0
          }
         },
         "name": "Settled 3",
         "type": "bar",
         "width": 1,
         "x": [
          19,
          25
         ],
         "y": [
          0.010631250000000002,
          0.010631250000000002
         ]
        },
        {
         "base": [
          0,
          0
         ],
         "customdata": [
          [
           0.009568125
          ],
          [
           0.009568125
          ]
         ],
         "hovertemplate": "Top: %{y:.5f}m<br>Bottom: %{base:.5f}m<br>Thickness: %{customdata[0]:,.5f}m<br>Name: Settled 4<br><b>Cell</b>: %{x}<br>",
         "marker": {
          "color": [
           "rgb(0.274128, 0.199721, 0.498911)",
           "rgb(0.274128, 0.199721, 0.498911)",
           "rgb(0.274128, 0.199721, 0.498911)",
           "rgb(0.274128, 0.199721, 0.498911)",
           "rgb(0.274128, 0.199721, 0.498911)",
           "rgb(0.274128, 0.199721, 0.498911)",
           "rgb(0.274128, 0.199721, 0.498911)",
           "rgb(0.274128, 0.199721, 0.498911)",
           "rgb(0.274128, 0.199721, 0.498911)",
           "rgb(0.274128, 0.199721, 0.498911)",
           "rgb(0.274128, 0.199721, 0.498911)",
           "rgb(0.274128, 0.199721, 0.498911)",
           "rgb(0.274128, 0.199721, 0.498911)",
           "rgb(0.274128, 0.199721, 0.498911)",
           "rgb(0.274128, 0.199721, 0.498911)",
           "rgb(0.274128, 0.199721, 0.498911)",
           "rgb(0.274128, 0.199721, 0.498911)",
           "rgb(0.274128, 0.199721, 0.498911)",
           "rgb(0.274128, 0.199721, 0.498911)",
           "rgb(0.274128, 0.199721, 0.498911)",
           "rgb(0.274128, 0.199721, 0.498911)",
           "rgb(0.274128, 0.199721, 0.498911)",
           "rgb(0.274128, 0.199721, 0.498911)",
           "rgb(0.274128, 0.199721, 0.498911)",
           "rgb(0.274128, 0.199721, 0.498911)",
           "rgb(0.274128, 0.199721, 0.498911)",
           "rgb(0.274128, 0.199721, 0.498911)",
           "rgb(0.274128, 0.199721, 0.498911)",
           "rgb(0.274128, 0.199721, 0.498911)",
           "rgb(0.274128, 0.199721, 0.498911)",
           "rgb(0.274128, 0.199721, 0.498911)",
           "rgb(0.274128, 0.199721, 0.498911)",
           "rgb(0.274128, 0.199721, 0.498911)",
           "rgb(0.274128, 0.199721, 0.498911)",
           "rgb(0.274128, 0.199721, 0.498911)",
           "rgb(0.274128, 0.199721, 0.498911)",
           "rgb(0.274128, 0.199721, 0.498911)",
           "rgb(0.274128, 0.199721, 0.498911)",
           "rgb(0.274128, 0.199721, 0.498911)",
           "rgb(0.274128, 0.199721, 0.498911)",
           "rgb(0.274128, 0.199721, 0.498911)",
           "rgb(0.274128, 0.199721, 0.498911)",
           "rgb(0.274128, 0.199721, 0.498911)",
           "rgb(0.274128, 0.199721, 0.498911)",
           "rgb(0.274128, 0.199721, 0.498911)",
           "rgb(0.274128, 0.199721, 0.498911)",
           "rgb(0.274128, 0.199721, 0.498911)",
           "rgb(0.274128, 0.199721, 0.498911)",
           "rgb(0.274128, 0.199721, 0.498911)",
           "rgb(0.274128, 0.199721, 0.498911)"
          ],
          "line": {
           "width": 0
          }
         },
         "name": "Settled 4",
         "type": "bar",
         "width": 1,
         "x": [
          18,
          26
         ],
         "y": [
          0.009568125,
          0.009568125
         ]
        },
        {
         "base": [
          0,
          0
         ],
         "customdata": [
          [
           0.0086113125
          ],
          [
           0.0086113125
          ]
         ],
         "hovertemplate": "Top: %{y:.5f}m<br>Bottom: %{base:.5f}m<br>Thickness: %{customdata[0]:,.5f}m<br>Name: Settled 5<br><b>Cell</b>: %{x}<br>",
         "marker": {
          "color": [
           "rgb(0.260571, 0.246922, 0.522828)",
           "rgb(0.260571, 0.246922, 0.522828)",
           "rgb(0.260571, 0.246922, 0.522828)",
           "rgb(0.260571, 0.246922, 0.522828)",
           "rgb(0.260571, 0.246922, 0.522828)",
           "rgb(0.260571, 0.246922, 0.522828)",
           "rgb(0.260571, 0.246922, 0.522828)",
           "rgb(0.260571, 0.246922, 0.522828)",
           "rgb(0.260571, 0.246922, 0.522828)",
           "rgb(0.260571, 0.246922, 0.522828)",
           "rgb(0.260571, 0.246922, 0.522828)",
           "rgb(0.260571, 0.246922, 0.522828)",
           "rgb(0.260571, 0.246922, 0.522828)",
           "rgb(0.260571, 0.246922, 0.522828)",
           "rgb(0.260571, 0.246922, 0.522828)",
           "rgb(0.260571, 0.246922, 0.522828)",
           "rgb(0.260571, 0.246922, 0.522828)",
           "rgb(0.260571, 0.246922, 0.522828)",
           "rgb(0.260571, 0.246922, 0.522828)",
           "rgb(0.260571, 0.246922, 0.522828)",
           "rgb(0.260571, 0.246922, 0.522828)",
           "rgb(0.260571, 0.246922, 0.522828)",
           "rgb(0.260571, 0.246922, 0.522828)",
           "rgb(0.260571, 0.246922, 0.522828)",
           "rgb(0.260571, 0.246922, 0.522828)",
           "rgb(0.260571, 0.246922, 0.522828)",
           "rgb(0.260571, 0.246922, 0.522828)",
           "rgb(0.260571, 0.246922, 0.522828)",
           "rgb(0.260571, 0.246922, 0.522828)",
           "rgb(0.260571, 0.246922, 0.522828)",
           "rgb(0.260571, 0.246922, 0.522828)",
           "rgb(0.260571, 0.246922, 0.522828)",
           "rgb(0.260571, 0.246922, 0.522828)",
           "rgb(0.260571, 0.246922, 0.522828)",
           "rgb(0.260571, 0.246922, 0.522828)",
           "rgb(0.260571, 0.246922, 0.522828)",
           "rgb(0.260571, 0.246922, 0.522828)",
           "rgb(0.260571, 0.246922, 0.522828)",
           "rgb(0.260571, 0.246922, 0.522828)",
           "rgb(0.260571, 0.246922, 0.522828)",
           "rgb(0.260571, 0.246922, 0.522828)",
           "rgb(0.260571, 0.246922, 0.522828)",
           "rgb(0.260571, 0.246922, 0.522828)",
           "rgb(0.260571, 0.246922, 0.522828)",
           "rgb(0.260571, 0.246922, 0.522828)",
           "rgb(0.260571, 0.246922, 0.522828)",
           "rgb(0.260571, 0.246922, 0.522828)",
           "rgb(0.260571, 0.246922, 0.522828)",
           "rgb(0.260571, 0.246922, 0.522828)",
           "rgb(0.260571, 0.246922, 0.522828)"
          ],
          "line": {
           "width": 0
          }
         },
         "name": "Settled 5",
         "type": "bar",
         "width": 1,
         "x": [
          17,
          27
         ],
         "y": [
          0.0086113125,
          0.0086113125
         ]
        },
        {
         "base": [
          0,
          0
         ],
         "customdata": [
          [
           0.007750181250000001
          ],
          [
           0.007750181250000001
          ]
         ],
         "hovertemplate": "Top: %{y:.5f}m<br>Bottom: %{base:.5f}m<br>Thickness: %{customdata[0]:,.5f}m<br>Name: Settled 6<br><b>Cell</b>: %{x}<br>",
         "marker": {
          "color": [
           "rgb(0.244972, 0.287675, 0.53726)",
           "rgb(0.244972, 0.287675, 0.53726)",
           "rgb(0.244972, 0.287675, 0.53726)",
           "rgb(0.244972, 0.287675, 0.53726)",
           "rgb(0.244972, 0.287675, 0.53726)",
           "rgb(0.244972, 0.287675, 0.53726)",
           "rgb(0.244972, 0.287675, 0.53726)",
           "rgb(0.244972, 0.287675, 0.53726)",
           "rgb(0.244972, 0.287675, 0.53726)",
           "rgb(0.244972, 0.287675, 0.53726)",
           "rgb(0.244972, 0.287675, 0.53726)",
           "rgb(0.244972, 0.287675, 0.53726)",
           "rgb(0.244972, 0.287675, 0.53726)",
           "rgb(0.244972, 0.287675, 0.53726)",
           "rgb(0.244972, 0.287675, 0.53726)",
           "rgb(0.244972, 0.287675, 0.53726)",
           "rgb(0.244972, 0.287675, 0.53726)",
           "rgb(0.244972, 0.287675, 0.53726)",
           "rgb(0.244972, 0.287675, 0.53726)",
           "rgb(0.244972, 0.287675, 0.53726)",
           "rgb(0.244972, 0.287675, 0.53726)",
           "rgb(0.244972, 0.287675, 0.53726)",
           "rgb(0.244972, 0.287675, 0.53726)",
           "rgb(0.244972, 0.287675, 0.53726)",
           "rgb(0.244972, 0.287675, 0.53726)",
           "rgb(0.244972, 0.287675, 0.53726)",
           "rgb(0.244972, 0.287675, 0.53726)",
           "rgb(0.244972, 0.287675, 0.53726)",
           "rgb(0.244972, 0.287675, 0.53726)",
           "rgb(0.244972, 0.287675, 0.53726)",
           "rgb(0.244972, 0.287675, 0.53726)",
           "rgb(0.244972, 0.287675, 0.53726)",
           "rgb(0.244972, 0.287675, 0.53726)",
           "rgb(0.244972, 0.287675, 0.53726)",
           "rgb(0.244972, 0.287675, 0.53726)",
           "rgb(0.244972, 0.287675, 0.53726)",
           "rgb(0.244972, 0.287675, 0.53726)",
           "rgb(0.244972, 0.287675, 0.53726)",
           "rgb(0.244972, 0.287675, 0.53726)",
           "rgb(0.244972, 0.287675, 0.53726)",
           "rgb(0.244972, 0.287675, 0.53726)",
           "rgb(0.244972, 0.287675, 0.53726)",
           "rgb(0.244972, 0.287675, 0.53726)",
           "rgb(0.244972, 0.287675, 0.53726)",
           "rgb(0.244972, 0.287675, 0.53726)",
           "rgb(0.244972, 0.287675, 0.53726)",
           "rgb(0.244972, 0.287675, 0.53726)",
           "rgb(0.244972, 0.287675, 0.53726)",
           "rgb(0.244972, 0.287675, 0.53726)",
           "rgb(0.244972, 0.287675, 0.53726)"
          ],
          "line": {
           "width": 0
          }
         },
         "name": "Settled 6",
         "type": "bar",
         "width": 1,
         "x": [
          16,
          28
         ],
         "y": [
          0.007750181250000001,
          0.007750181250000001
         ]
        },
        {
         "base": [
          0,
          0
         ],
         "customdata": [
          [
           0.006975163125000001
          ],
          [
           0.006975163125000001
          ]
         ],
         "hovertemplate": "Top: %{y:.5f}m<br>Bottom: %{base:.5f}m<br>Thickness: %{customdata[0]:,.5f}m<br>Name: Settled 7<br><b>Cell</b>: %{x}<br>",
         "marker": {
          "color": [
           "rgb(0.225863, 0.330805, 0.547314)",
           "rgb(0.225863, 0.330805, 0.547314)",
           "rgb(0.225863, 0.330805, 0.547314)",
           "rgb(0.225863, 0.330805, 0.547314)",
           "rgb(0.225863, 0.330805, 0.547314)",
           "rgb(0.225863, 0.330805, 0.547314)",
           "rgb(0.225863, 0.330805, 0.547314)",
           "rgb(0.225863, 0.330805, 0.547314)",
           "rgb(0.225863, 0.330805, 0.547314)",
           "rgb(0.225863, 0.330805, 0.547314)",
           "rgb(0.225863, 0.330805, 0.547314)",
           "rgb(0.225863, 0.330805, 0.547314)",
           "rgb(0.225863, 0.330805, 0.547314)",
           "rgb(0.225863, 0.330805, 0.547314)",
           "rgb(0.225863, 0.330805, 0.547314)",
           "rgb(0.225863, 0.330805, 0.547314)",
           "rgb(0.225863, 0.330805, 0.547314)",
           "rgb(0.225863, 0.330805, 0.547314)",
           "rgb(0.225863, 0.330805, 0.547314)",
           "rgb(0.225863, 0.330805, 0.547314)",
           "rgb(0.225863, 0.330805, 0.547314)",
           "rgb(0.225863, 0.330805, 0.547314)",
           "rgb(0.225863, 0.330805, 0.547314)",
           "rgb(0.225863, 0.330805, 0.547314)",
           "rgb(0.225863, 0.330805, 0.547314)",
           "rgb(0.225863, 0.330805, 0.547314)",
           "rgb(0.225863, 0.330805, 0.547314)",
           "rgb(0.225863, 0.330805, 0.547314)",
           "rgb(0.225863, 0.330805, 0.547314)",
           "rgb(0.225863, 0.330805, 0.547314)",
           "rgb(0.225863, 0.330805, 0.547314)",
           "rgb(0.225863, 0.330805, 0.547314)",
           "rgb(0.225863, 0.330805, 0.547314)",
           "rgb(0.225863, 0.330805, 0.547314)",
           "rgb(0.225863, 0.330805, 0.547314)",
           "rgb(0.225863, 0.330805, 0.547314)",
           "rgb(0.225863, 0.330805, 0.547314)",
           "rgb(0.225863, 0.330805, 0.547314)",
           "rgb(0.225863, 0.330805, 0.547314)",
           "rgb(0.225863, 0.330805, 0.547314)",
           "rgb(0.225863, 0.330805, 0.547314)",
           "rgb(0.225863, 0.330805, 0.547314)",
           "rgb(0.225863, 0.330805, 0.547314)",
           "rgb(0.225863, 0.330805, 0.547314)",
           "rgb(0.225863, 0.330805, 0.547314)",
           "rgb(0.225863, 0.330805, 0.547314)",
           "rgb(0.225863, 0.330805, 0.547314)",
           "rgb(0.225863, 0.330805, 0.547314)",
           "rgb(0.225863, 0.330805, 0.547314)",
           "rgb(0.225863, 0.330805, 0.547314)"
          ],
          "line": {
           "width": 0
          }
         },
         "name": "Settled 7",
         "type": "bar",
         "width": 1,
         "x": [
          15,
          29
         ],
         "y": [
          0.006975163125000001,
          0.006975163125000001
         ]
        },
        {
         "base": [
          0,
          0
         ],
         "customdata": [
          [
           0.0062776468125
          ],
          [
           0.0062776468125
          ]
         ],
         "hovertemplate": "Top: %{y:.5f}m<br>Bottom: %{base:.5f}m<br>Thickness: %{customdata[0]:,.5f}m<br>Name: Settled 8<br><b>Cell</b>: %{x}<br>",
         "marker": {
          "color": [
           "rgb(0.208623, 0.367752, 0.552675)",
           "rgb(0.208623, 0.367752, 0.552675)",
           "rgb(0.208623, 0.367752, 0.552675)",
           "rgb(0.208623, 0.367752, 0.552675)",
           "rgb(0.208623, 0.367752, 0.552675)",
           "rgb(0.208623, 0.367752, 0.552675)",
           "rgb(0.208623, 0.367752, 0.552675)",
           "rgb(0.208623, 0.367752, 0.552675)",
           "rgb(0.208623, 0.367752, 0.552675)",
           "rgb(0.208623, 0.367752, 0.552675)",
           "rgb(0.208623, 0.367752, 0.552675)",
           "rgb(0.208623, 0.367752, 0.552675)",
           "rgb(0.208623, 0.367752, 0.552675)",
           "rgb(0.208623, 0.367752, 0.552675)",
           "rgb(0.208623, 0.367752, 0.552675)",
           "rgb(0.208623, 0.367752, 0.552675)",
           "rgb(0.208623, 0.367752, 0.552675)",
           "rgb(0.208623, 0.367752, 0.552675)",
           "rgb(0.208623, 0.367752, 0.552675)",
           "rgb(0.208623, 0.367752, 0.552675)",
           "rgb(0.208623, 0.367752, 0.552675)",
           "rgb(0.208623, 0.367752, 0.552675)",
           "rgb(0.208623, 0.367752, 0.552675)",
           "rgb(0.208623, 0.367752, 0.552675)",
           "rgb(0.208623, 0.367752, 0.552675)",
           "rgb(0.208623, 0.367752, 0.552675)",
           "rgb(0.208623, 0.367752, 0.552675)",
           "rgb(0.208623, 0.367752, 0.552675)",
           "rgb(0.208623, 0.367752, 0.552675)",
           "rgb(0.208623, 0.367752, 0.552675)",
           "rgb(0.208623, 0.367752, 0.552675)",
           "rgb(0.208623, 0.367752, 0.552675)",
           "rgb(0.208623, 0.367752, 0.552675)",
           "rgb(0.208623, 0.367752, 0.552675)",
           "rgb(0.208623, 0.367752, 0.552675)",
           "rgb(0.208623, 0.367752, 0.552675)",
           "rgb(0.208623, 0.367752, 0.552675)",
           "rgb(0.208623, 0.367752, 0.552675)",
           "rgb(0.208623, 0.367752, 0.552675)",
           "rgb(0.208623, 0.367752, 0.552675)",
           "rgb(0.208623, 0.367752, 0.552675)",
           "rgb(0.208623, 0.367752, 0.552675)",
           "rgb(0.208623, 0.367752, 0.552675)",
           "rgb(0.208623, 0.367752, 0.552675)",
           "rgb(0.208623, 0.367752, 0.552675)",
           "rgb(0.208623, 0.367752, 0.552675)",
           "rgb(0.208623, 0.367752, 0.552675)",
           "rgb(0.208623, 0.367752, 0.552675)",
           "rgb(0.208623, 0.367752, 0.552675)",
           "rgb(0.208623, 0.367752, 0.552675)"
          ],
          "line": {
           "width": 0
          }
         },
         "name": "Settled 8",
         "type": "bar",
         "width": 1,
         "x": [
          14,
          30
         ],
         "y": [
          0.0062776468125,
          0.0062776468125
         ]
        },
        {
         "base": [
          0,
          0
         ],
         "customdata": [
          [
           0.0056498821312500015
          ],
          [
           0.0056498821312500015
          ]
         ],
         "hovertemplate": "Top: %{y:.5f}m<br>Bottom: %{base:.5f}m<br>Thickness: %{customdata[0]:,.5f}m<br>Name: Settled 9<br><b>Cell</b>: %{x}<br>",
         "marker": {
          "color": [
           "rgb(0.190631, 0.407061, 0.556089)",
           "rgb(0.190631, 0.407061, 0.556089)",
           "rgb(0.190631, 0.407061, 0.556089)",
           "rgb(0.190631, 0.407061, 0.556089)",
           "rgb(0.190631, 0.407061, 0.556089)",
           "rgb(0.190631, 0.407061, 0.556089)",
           "rgb(0.190631, 0.407061, 0.556089)",
           "rgb(0.190631, 0.407061, 0.556089)",
           "rgb(0.190631, 0.407061, 0.556089)",
           "rgb(0.190631, 0.407061, 0.556089)",
           "rgb(0.190631, 0.407061, 0.556089)",
           "rgb(0.190631, 0.407061, 0.556089)",
           "rgb(0.190631, 0.407061, 0.556089)",
           "rgb(0.190631, 0.407061, 0.556089)",
           "rgb(0.190631, 0.407061, 0.556089)",
           "rgb(0.190631, 0.407061, 0.556089)",
           "rgb(0.190631, 0.407061, 0.556089)",
           "rgb(0.190631, 0.407061, 0.556089)",
           "rgb(0.190631, 0.407061, 0.556089)",
           "rgb(0.190631, 0.407061, 0.556089)",
           "rgb(0.190631, 0.407061, 0.556089)",
           "rgb(0.190631, 0.407061, 0.556089)",
           "rgb(0.190631, 0.407061, 0.556089)",
           "rgb(0.190631, 0.407061, 0.556089)",
           "rgb(0.190631, 0.407061, 0.556089)",
           "rgb(0.190631, 0.407061, 0.556089)",
           "rgb(0.190631, 0.407061, 0.556089)",
           "rgb(0.190631, 0.407061, 0.556089)",
           "rgb(0.190631, 0.407061, 0.556089)",
           "rgb(0.190631, 0.407061, 0.556089)",
           "rgb(0.190631, 0.407061, 0.556089)",
           "rgb(0.190631, 0.407061, 0.556089)",
           "rgb(0.190631, 0.407061, 0.556089)",
           "rgb(0.190631, 0.407061, 0.556089)",
           "rgb(0.190631, 0.407061, 0.556089)",
           "rgb(0.190631, 0.407061, 0.556089)",
           "rgb(0.190631, 0.407061, 0.556089)",
           "rgb(0.190631, 0.407061, 0.556089)",
           "rgb(0.190631, 0.407061, 0.556089)",
           "rgb(0.190631, 0.407061, 0.556089)",
           "rgb(0.190631, 0.407061, 0.556089)",
           "rgb(0.190631, 0.407061, 0.556089)",
           "rgb(0.190631, 0.407061, 0.556089)",
           "rgb(0.190631, 0.407061, 0.556089)",
           "rgb(0.190631, 0.407061, 0.556089)",
           "rgb(0.190631, 0.407061, 0.556089)",
           "rgb(0.190631, 0.407061, 0.556089)",
           "rgb(0.190631, 0.407061, 0.556089)",
           "rgb(0.190631, 0.407061, 0.556089)",
           "rgb(0.190631, 0.407061, 0.556089)"
          ],
          "line": {
           "width": 0
          }
         },
         "name": "Settled 9",
         "type": "bar",
         "width": 1,
         "x": [
          13,
          31
         ],
         "y": [
          0.0056498821312500015,
          0.0056498821312500015
         ]
        },
        {
         "base": [
          0,
          0
         ],
         "customdata": [
          [
           0.0050848939181250006
          ],
          [
           0.0050848939181250006
          ]
         ],
         "hovertemplate": "Top: %{y:.5f}m<br>Bottom: %{base:.5f}m<br>Thickness: %{customdata[0]:,.5f}m<br>Name: Settled 10<br><b>Cell</b>: %{x}<br>",
         "marker": {
          "color": [
           "rgb(0.175841, 0.44129, 0.557685)",
           "rgb(0.175841, 0.44129, 0.557685)",
           "rgb(0.175841, 0.44129, 0.557685)",
           "rgb(0.175841, 0.44129, 0.557685)",
           "rgb(0.175841, 0.44129, 0.557685)",
           "rgb(0.175841, 0.44129, 0.557685)",
           "rgb(0.175841, 0.44129, 0.557685)",
           "rgb(0.175841, 0.44129, 0.557685)",
           "rgb(0.175841, 0.44129, 0.557685)",
           "rgb(0.175841, 0.44129, 0.557685)",
           "rgb(0.175841, 0.44129, 0.557685)",
           "rgb(0.175841, 0.44129, 0.557685)",
           "rgb(0.175841, 0.44129, 0.557685)",
           "rgb(0.175841, 0.44129, 0.557685)",
           "rgb(0.175841, 0.44129, 0.557685)",
           "rgb(0.175841, 0.44129, 0.557685)",
           "rgb(0.175841, 0.44129, 0.557685)",
           "rgb(0.175841, 0.44129, 0.557685)",
           "rgb(0.175841, 0.44129, 0.557685)",
           "rgb(0.175841, 0.44129, 0.557685)",
           "rgb(0.175841, 0.44129, 0.557685)",
           "rgb(0.175841, 0.44129, 0.557685)",
           "rgb(0.175841, 0.44129, 0.557685)",
           "rgb(0.175841, 0.44129, 0.557685)",
           "rgb(0.175841, 0.44129, 0.557685)",
           "rgb(0.175841, 0.44129, 0.557685)",
           "rgb(0.175841, 0.44129, 0.557685)",
           "rgb(0.175841, 0.44129, 0.557685)",
           "rgb(0.175841, 0.44129, 0.557685)",
           "rgb(0.175841, 0.44129, 0.557685)",
           "rgb(0.175841, 0.44129, 0.557685)",
           "rgb(0.175841, 0.44129, 0.557685)",
           "rgb(0.175841, 0.44129, 0.557685)",
           "rgb(0.175841, 0.44129, 0.557685)",
           "rgb(0.175841, 0.44129, 0.557685)",
           "rgb(0.175841, 0.44129, 0.557685)",
           "rgb(0.175841, 0.44129, 0.557685)",
           "rgb(0.175841, 0.44129, 0.557685)",
           "rgb(0.175841, 0.44129, 0.557685)",
           "rgb(0.175841, 0.44129, 0.557685)",
           "rgb(0.175841, 0.44129, 0.557685)",
           "rgb(0.175841, 0.44129, 0.557685)",
           "rgb(0.175841, 0.44129, 0.557685)",
           "rgb(0.175841, 0.44129, 0.557685)",
           "rgb(0.175841, 0.44129, 0.557685)",
           "rgb(0.175841, 0.44129, 0.557685)",
           "rgb(0.175841, 0.44129, 0.557685)",
           "rgb(0.175841, 0.44129, 0.557685)",
           "rgb(0.175841, 0.44129, 0.557685)",
           "rgb(0.175841, 0.44129, 0.557685)"
          ],
          "line": {
           "width": 0
          }
         },
         "name": "Settled 10",
         "type": "bar",
         "width": 1,
         "x": [
          12,
          32
         ],
         "y": [
          0.0050848939181250006,
          0.0050848939181250006
         ]
        },
        {
         "base": [
          0,
          0
         ],
         "customdata": [
          [
           0.004576404526312501
          ],
          [
           0.004576404526312501
          ]
         ],
         "hovertemplate": "Top: %{y:.5f}m<br>Bottom: %{base:.5f}m<br>Thickness: %{customdata[0]:,.5f}m<br>Name: Settled 11<br><b>Cell</b>: %{x}<br>",
         "marker": {
          "color": [
           "rgb(0.160665, 0.47854, 0.558115)",
           "rgb(0.160665, 0.47854, 0.558115)",
           "rgb(0.160665, 0.47854, 0.558115)",
           "rgb(0.160665, 0.47854, 0.558115)",
           "rgb(0.160665, 0.47854, 0.558115)",
           "rgb(0.160665, 0.47854, 0.558115)",
           "rgb(0.160665, 0.47854, 0.558115)",
           "rgb(0.160665, 0.47854, 0.558115)",
           "rgb(0.160665, 0.47854, 0.558115)",
           "rgb(0.160665, 0.47854, 0.558115)",
           "rgb(0.160665, 0.47854, 0.558115)",
           "rgb(0.160665, 0.47854, 0.558115)",
           "rgb(0.160665, 0.47854, 0.558115)",
           "rgb(0.160665, 0.47854, 0.558115)",
           "rgb(0.160665, 0.47854, 0.558115)",
           "rgb(0.160665, 0.47854, 0.558115)",
           "rgb(0.160665, 0.47854, 0.558115)",
           "rgb(0.160665, 0.47854, 0.558115)",
           "rgb(0.160665, 0.47854, 0.558115)",
           "rgb(0.160665, 0.47854, 0.558115)",
           "rgb(0.160665, 0.47854, 0.558115)",
           "rgb(0.160665, 0.47854, 0.558115)",
           "rgb(0.160665, 0.47854, 0.558115)",
           "rgb(0.160665, 0.47854, 0.558115)",
           "rgb(0.160665, 0.47854, 0.558115)",
           "rgb(0.160665, 0.47854, 0.558115)",
           "rgb(0.160665, 0.47854, 0.558115)",
           "rgb(0.160665, 0.47854, 0.558115)",
           "rgb(0.160665, 0.47854, 0.558115)",
           "rgb(0.160665, 0.47854, 0.558115)",
           "rgb(0.160665, 0.47854, 0.558115)",
           "rgb(0.160665, 0.47854, 0.558115)",
           "rgb(0.160665, 0.47854, 0.558115)",
           "rgb(0.160665, 0.47854, 0.558115)",
           "rgb(0.160665, 0.47854, 0.558115)",
           "rgb(0.160665, 0.47854, 0.558115)",
           "rgb(0.160665, 0.47854, 0.558115)",
           "rgb(0.160665, 0.47854, 0.558115)",
           "rgb(0.160665, 0.47854, 0.558115)",
           "rgb(0.160665, 0.47854, 0.558115)",
           "rgb(0.160665, 0.47854, 0.558115)",
           "rgb(0.160665, 0.47854, 0.558115)",
           "rgb(0.160665, 0.47854, 0.558115)",
           "rgb(0.160665, 0.47854, 0.558115)",
           "rgb(0.160665, 0.47854, 0.558115)",
           "rgb(0.160665, 0.47854, 0.558115)",
           "rgb(0.160665, 0.47854, 0.558115)",
           "rgb(0.160665, 0.47854, 0.558115)",
           "rgb(0.160665, 0.47854, 0.558115)",
           "rgb(0.160665, 0.47854, 0.558115)"
          ],
          "line": {
           "width": 0
          }
         },
         "name": "Settled 11",
         "type": "bar",
         "width": 1,
         "x": [
          11,
          33
         ],
         "y": [
          0.004576404526312501,
          0.004576404526312501
         ]
        },
        {
         "base": [
          0,
          0
         ],
         "customdata": [
          [
           0.00411876407368125
          ],
          [
           0.00411876407368125
          ]
         ],
         "hovertemplate": "Top: %{y:.5f}m<br>Bottom: %{base:.5f}m<br>Thickness: %{customdata[0]:,.5f}m<br>Name: Settled 12<br><b>Cell</b>: %{x}<br>",
         "marker": {
          "color": [
           "rgb(0.147607, 0.511733, 0.557049)",
           "rgb(0.147607, 0.511733, 0.557049)",
           "rgb(0.147607, 0.511733, 0.557049)",
           "rgb(0.147607, 0.511733, 0.557049)",
           "rgb(0.147607, 0.511733, 0.557049)",
           "rgb(0.147607, 0.511733, 0.557049)",
           "rgb(0.147607, 0.511733, 0.557049)",
           "rgb(0.147607, 0.511733, 0.557049)",
           "rgb(0.147607, 0.511733, 0.557049)",
           "rgb(0.147607, 0.511733, 0.557049)",
           "rgb(0.147607, 0.511733, 0.557049)",
           "rgb(0.147607, 0.511733, 0.557049)",
           "rgb(0.147607, 0.511733, 0.557049)",
           "rgb(0.147607, 0.511733, 0.557049)",
           "rgb(0.147607, 0.511733, 0.557049)",
           "rgb(0.147607, 0.511733, 0.557049)",
           "rgb(0.147607, 0.511733, 0.557049)",
           "rgb(0.147607, 0.511733, 0.557049)",
           "rgb(0.147607, 0.511733, 0.557049)",
           "rgb(0.147607, 0.511733, 0.557049)",
           "rgb(0.147607, 0.511733, 0.557049)",
           "rgb(0.147607, 0.511733, 0.557049)",
           "rgb(0.147607, 0.511733, 0.557049)",
           "rgb(0.147607, 0.511733, 0.557049)",
           "rgb(0.147607, 0.511733, 0.557049)",
           "rgb(0.147607, 0.511733, 0.557049)",
           "rgb(0.147607, 0.511733, 0.557049)",
           "rgb(0.147607, 0.511733, 0.557049)",
           "rgb(0.147607, 0.511733, 0.557049)",
           "rgb(0.147607, 0.511733, 0.557049)",
           "rgb(0.147607, 0.511733, 0.557049)",
           "rgb(0.147607, 0.511733, 0.557049)",
           "rgb(0.147607, 0.511733, 0.557049)",
           "rgb(0.147607, 0.511733, 0.557049)",
           "rgb(0.147607, 0.511733, 0.557049)",
           "rgb(0.147607, 0.511733, 0.557049)",
           "rgb(0.147607, 0.511733, 0.557049)",
           "rgb(0.147607, 0.511733, 0.557049)",
           "rgb(0.147607, 0.511733, 0.557049)",
           "rgb(0.147607, 0.511733, 0.557049)",
           "rgb(0.147607, 0.511733, 0.557049)",
           "rgb(0.147607, 0.511733, 0.557049)",
           "rgb(0.147607, 0.511733, 0.557049)",
           "rgb(0.147607, 0.511733, 0.557049)",
           "rgb(0.147607, 0.511733, 0.557049)",
           "rgb(0.147607, 0.511733, 0.557049)",
           "rgb(0.147607, 0.511733, 0.557049)",
           "rgb(0.147607, 0.511733, 0.557049)",
           "rgb(0.147607, 0.511733, 0.557049)",
           "rgb(0.147607, 0.511733, 0.557049)"
          ],
          "line": {
           "width": 0
          }
         },
         "name": "Settled 12",
         "type": "bar",
         "width": 1,
         "x": [
          10,
          34
         ],
         "y": [
          0.00411876407368125,
          0.00411876407368125
         ]
        },
        {
         "base": [
          0,
          0
         ],
         "customdata": [
          [
           0.0037068876663131248
          ],
          [
           0.0037068876663131248
          ]
         ],
         "hovertemplate": "Top: %{y:.5f}m<br>Bottom: %{base:.5f}m<br>Thickness: %{customdata[0]:,.5f}m<br>Name: Settled 13<br><b>Cell</b>: %{x}<br>",
         "marker": {
          "color": [
           "rgb(0.133743, 0.548535, 0.553541)",
           "rgb(0.133743, 0.548535, 0.553541)",
           "rgb(0.133743, 0.548535, 0.553541)",
           "rgb(0.133743, 0.548535, 0.553541)",
           "rgb(0.133743, 0.548535, 0.553541)",
           "rgb(0.133743, 0.548535, 0.553541)",
           "rgb(0.133743, 0.548535, 0.553541)",
           "rgb(0.133743, 0.548535, 0.553541)",
           "rgb(0.133743, 0.548535, 0.553541)",
           "rgb(0.133743, 0.548535, 0.553541)",
           "rgb(0.133743, 0.548535, 0.553541)",
           "rgb(0.133743, 0.548535, 0.553541)",
           "rgb(0.133743, 0.548535, 0.553541)",
           "rgb(0.133743, 0.548535, 0.553541)",
           "rgb(0.133743, 0.548535, 0.553541)",
           "rgb(0.133743, 0.548535, 0.553541)",
           "rgb(0.133743, 0.548535, 0.553541)",
           "rgb(0.133743, 0.548535, 0.553541)",
           "rgb(0.133743, 0.548535, 0.553541)",
           "rgb(0.133743, 0.548535, 0.553541)",
           "rgb(0.133743, 0.548535, 0.553541)",
           "rgb(0.133743, 0.548535, 0.553541)",
           "rgb(0.133743, 0.548535, 0.553541)",
           "rgb(0.133743, 0.548535, 0.553541)",
           "rgb(0.133743, 0.548535, 0.553541)",
           "rgb(0.133743, 0.548535, 0.553541)",
           "rgb(0.133743, 0.548535, 0.553541)",
           "rgb(0.133743, 0.548535, 0.553541)",
           "rgb(0.133743, 0.548535, 0.553541)",
           "rgb(0.133743, 0.548535, 0.553541)",
           "rgb(0.133743, 0.548535, 0.553541)",
           "rgb(0.133743, 0.548535, 0.553541)",
           "rgb(0.133743, 0.548535, 0.553541)",
           "rgb(0.133743, 0.548535, 0.553541)",
           "rgb(0.133743, 0.548535, 0.553541)",
           "rgb(0.133743, 0.548535, 0.553541)",
           "rgb(0.133743, 0.548535, 0.553541)",
           "rgb(0.133743, 0.548535, 0.553541)",
           "rgb(0.133743, 0.548535, 0.553541)",
           "rgb(0.133743, 0.548535, 0.553541)",
           "rgb(0.133743, 0.548535, 0.553541)",
           "rgb(0.133743, 0.548535, 0.553541)",
           "rgb(0.133743, 0.548535, 0.553541)",
           "rgb(0.133743, 0.548535, 0.553541)",
           "rgb(0.133743, 0.548535, 0.553541)",
           "rgb(0.133743, 0.548535, 0.553541)",
           "rgb(0.133743, 0.548535, 0.553541)",
           "rgb(0.133743, 0.548535, 0.553541)",
           "rgb(0.133743, 0.548535, 0.553541)",
           "rgb(0.133743, 0.548535, 0.553541)"
          ],
          "line": {
           "width": 0
          }
         },
         "name": "Settled 13",
         "type": "bar",
         "width": 1,
         "x": [
          9,
          35
         ],
         "y": [
          0.0037068876663131248,
          0.0037068876663131248
         ]
        },
        {
         "base": [
          0,
          0
         ],
         "customdata": [
          [
           0.003336198899681813
          ],
          [
           0.003336198899681813
          ]
         ],
         "hovertemplate": "Top: %{y:.5f}m<br>Bottom: %{base:.5f}m<br>Thickness: %{customdata[0]:,.5f}m<br>Name: Settled 14<br><b>Cell</b>: %{x}<br>",
         "marker": {
          "color": [
           "rgb(0.123463, 0.581687, 0.547445)",
           "rgb(0.123463, 0.581687, 0.547445)",
           "rgb(0.123463, 0.581687, 0.547445)",
           "rgb(0.123463, 0.581687, 0.547445)",
           "rgb(0.123463, 0.581687, 0.547445)",
           "rgb(0.123463, 0.581687, 0.547445)",
           "rgb(0.123463, 0.581687, 0.547445)",
           "rgb(0.123463, 0.581687, 0.547445)",
           "rgb(0.123463, 0.581687, 0.547445)",
           "rgb(0.123463, 0.581687, 0.547445)",
           "rgb(0.123463, 0.581687, 0.547445)",
           "rgb(0.123463, 0.581687, 0.547445)",
           "rgb(0.123463, 0.581687, 0.547445)",
           "rgb(0.123463, 0.581687, 0.547445)",
           "rgb(0.123463, 0.581687, 0.547445)",
           "rgb(0.123463, 0.581687, 0.547445)",
           "rgb(0.123463, 0.581687, 0.547445)",
           "rgb(0.123463, 0.581687, 0.547445)",
           "rgb(0.123463, 0.581687, 0.547445)",
           "rgb(0.123463, 0.581687, 0.547445)",
           "rgb(0.123463, 0.581687, 0.547445)",
           "rgb(0.123463, 0.581687, 0.547445)",
           "rgb(0.123463, 0.581687, 0.547445)",
           "rgb(0.123463, 0.581687, 0.547445)",
           "rgb(0.123463, 0.581687, 0.547445)",
           "rgb(0.123463, 0.581687, 0.547445)",
           "rgb(0.123463, 0.581687, 0.547445)",
           "rgb(0.123463, 0.581687, 0.547445)",
           "rgb(0.123463, 0.581687, 0.547445)",
           "rgb(0.123463, 0.581687, 0.547445)",
           "rgb(0.123463, 0.581687, 0.547445)",
           "rgb(0.123463, 0.581687, 0.547445)",
           "rgb(0.123463, 0.581687, 0.547445)",
           "rgb(0.123463, 0.581687, 0.547445)",
           "rgb(0.123463, 0.581687, 0.547445)",
           "rgb(0.123463, 0.581687, 0.547445)",
           "rgb(0.123463, 0.581687, 0.547445)",
           "rgb(0.123463, 0.581687, 0.547445)",
           "rgb(0.123463, 0.581687, 0.547445)",
           "rgb(0.123463, 0.581687, 0.547445)",
           "rgb(0.123463, 0.581687, 0.547445)",
           "rgb(0.123463, 0.581687, 0.547445)",
           "rgb(0.123463, 0.581687, 0.547445)",
           "rgb(0.123463, 0.581687, 0.547445)",
           "rgb(0.123463, 0.581687, 0.547445)",
           "rgb(0.123463, 0.581687, 0.547445)",
           "rgb(0.123463, 0.581687, 0.547445)",
           "rgb(0.123463, 0.581687, 0.547445)",
           "rgb(0.123463, 0.581687, 0.547445)",
           "rgb(0.123463, 0.581687, 0.547445)"
          ],
          "line": {
           "width": 0
          }
         },
         "name": "Settled 14",
         "type": "bar",
         "width": 1,
         "x": [
          8,
          36
         ],
         "y": [
          0.003336198899681813,
          0.003336198899681813
         ]
        },
        {
         "base": [
          0,
          0
         ],
         "customdata": [
          [
           0.0030025790097136314
          ],
          [
           0.0030025790097136314
          ]
         ],
         "hovertemplate": "Top: %{y:.5f}m<br>Bottom: %{base:.5f}m<br>Thickness: %{customdata[0]:,.5f}m<br>Name: Settled 15<br><b>Cell</b>: %{x}<br>",
         "marker": {
          "color": [
           "rgb(0.119699, 0.61849, 0.536347)",
           "rgb(0.119699, 0.61849, 0.536347)",
           "rgb(0.119699, 0.61849, 0.536347)",
           "rgb(0.119699, 0.61849, 0.536347)",
           "rgb(0.119699, 0.61849, 0.536347)",
           "rgb(0.119699, 0.61849, 0.536347)",
           "rgb(0.119699, 0.61849, 0.536347)",
           "rgb(0.119699, 0.61849, 0.536347)",
           "rgb(0.119699, 0.61849, 0.536347)",
           "rgb(0.119699, 0.61849, 0.536347)",
           "rgb(0.119699, 0.61849, 0.536347)",
           "rgb(0.119699, 0.61849, 0.536347)",
           "rgb(0.119699, 0.61849, 0.536347)",
           "rgb(0.119699, 0.61849, 0.536347)",
           "rgb(0.119699, 0.61849, 0.536347)",
           "rgb(0.119699, 0.61849, 0.536347)",
           "rgb(0.119699, 0.61849, 0.536347)",
           "rgb(0.119699, 0.61849, 0.536347)",
           "rgb(0.119699, 0.61849, 0.536347)",
           "rgb(0.119699, 0.61849, 0.536347)",
           "rgb(0.119699, 0.61849, 0.536347)",
           "rgb(0.119699, 0.61849, 0.536347)",
           "rgb(0.119699, 0.61849, 0.536347)",
           "rgb(0.119699, 0.61849, 0.536347)",
           "rgb(0.119699, 0.61849, 0.536347)",
           "rgb(0.119699, 0.61849, 0.536347)",
           "rgb(0.119699, 0.61849, 0.536347)",
           "rgb(0.119699, 0.61849, 0.536347)",
           "rgb(0.119699, 0.61849, 0.536347)",
           "rgb(0.119699, 0.61849, 0.536347)",
           "rgb(0.119699, 0.61849, 0.536347)",
           "rgb(0.119699, 0.61849, 0.536347)",
           "rgb(0.119699, 0.61849, 0.536347)",
           "rgb(0.119699, 0.61849, 0.536347)",
           "rgb(0.119699, 0.61849, 0.536347)",
           "rgb(0.119699, 0.61849, 0.536347)",
           "rgb(0.119699, 0.61849, 0.536347)",
           "rgb(0.119699, 0.61849, 0.536347)",
           "rgb(0.119699, 0.61849, 0.536347)",
           "rgb(0.119699, 0.61849, 0.536347)",
           "rgb(0.119699, 0.61849, 0.536347)",
           "rgb(0.119699, 0.61849, 0.536347)",
           "rgb(0.119699, 0.61849, 0.536347)",
           "rgb(0.119699, 0.61849, 0.536347)",
           "rgb(0.119699, 0.61849, 0.536347)",
           "rgb(0.119699, 0.61849, 0.536347)",
           "rgb(0.119699, 0.61849, 0.536347)",
           "rgb(0.119699, 0.61849, 0.536347)",
           "rgb(0.119699, 0.61849, 0.536347)",
           "rgb(0.119699, 0.61849, 0.536347)"
          ],
          "line": {
           "width": 0
          }
         },
         "name": "Settled 15",
         "type": "bar",
         "width": 1,
         "x": [
          7,
          37
         ],
         "y": [
          0.0030025790097136314,
          0.0030025790097136314
         ]
        },
        {
         "base": [
          0,
          0
         ],
         "customdata": [
          [
           0.0027023211087422684
          ],
          [
           0.0027023211087422684
          ]
         ],
         "hovertemplate": "Top: %{y:.5f}m<br>Bottom: %{base:.5f}m<br>Thickness: %{customdata[0]:,.5f}m<br>Name: Settled 16<br><b>Cell</b>: %{x}<br>",
         "marker": {
          "color": [
           "rgb(0.130067, 0.651384, 0.521608)",
           "rgb(0.130067, 0.651384, 0.521608)",
           "rgb(0.130067, 0.651384, 0.521608)",
           "rgb(0.130067, 0.651384, 0.521608)",
           "rgb(0.130067, 0.651384, 0.521608)",
           "rgb(0.130067, 0.651384, 0.521608)",
           "rgb(0.130067, 0.651384, 0.521608)",
           "rgb(0.130067, 0.651384, 0.521608)",
           "rgb(0.130067, 0.651384, 0.521608)",
           "rgb(0.130067, 0.651384, 0.521608)",
           "rgb(0.130067, 0.651384, 0.521608)",
           "rgb(0.130067, 0.651384, 0.521608)",
           "rgb(0.130067, 0.651384, 0.521608)",
           "rgb(0.130067, 0.651384, 0.521608)",
           "rgb(0.130067, 0.651384, 0.521608)",
           "rgb(0.130067, 0.651384, 0.521608)",
           "rgb(0.130067, 0.651384, 0.521608)",
           "rgb(0.130067, 0.651384, 0.521608)",
           "rgb(0.130067, 0.651384, 0.521608)",
           "rgb(0.130067, 0.651384, 0.521608)",
           "rgb(0.130067, 0.651384, 0.521608)",
           "rgb(0.130067, 0.651384, 0.521608)",
           "rgb(0.130067, 0.651384, 0.521608)",
           "rgb(0.130067, 0.651384, 0.521608)",
           "rgb(0.130067, 0.651384, 0.521608)",
           "rgb(0.130067, 0.651384, 0.521608)",
           "rgb(0.130067, 0.651384, 0.521608)",
           "rgb(0.130067, 0.651384, 0.521608)",
           "rgb(0.130067, 0.651384, 0.521608)",
           "rgb(0.130067, 0.651384, 0.521608)",
           "rgb(0.130067, 0.651384, 0.521608)",
           "rgb(0.130067, 0.651384, 0.521608)",
           "rgb(0.130067, 0.651384, 0.521608)",
           "rgb(0.130067, 0.651384, 0.521608)",
           "rgb(0.130067, 0.651384, 0.521608)",
           "rgb(0.130067, 0.651384, 0.521608)",
           "rgb(0.130067, 0.651384, 0.521608)",
           "rgb(0.130067, 0.651384, 0.521608)",
           "rgb(0.130067, 0.651384, 0.521608)",
           "rgb(0.130067, 0.651384, 0.521608)",
           "rgb(0.130067, 0.651384, 0.521608)",
           "rgb(0.130067, 0.651384, 0.521608)",
           "rgb(0.130067, 0.651384, 0.521608)",
           "rgb(0.130067, 0.651384, 0.521608)",
           "rgb(0.130067, 0.651384, 0.521608)",
           "rgb(0.130067, 0.651384, 0.521608)",
           "rgb(0.130067, 0.651384, 0.521608)",
           "rgb(0.130067, 0.651384, 0.521608)",
           "rgb(0.130067, 0.651384, 0.521608)",
           "rgb(0.130067, 0.651384, 0.521608)"
          ],
          "line": {
           "width": 0
          }
         },
         "name": "Settled 16",
         "type": "bar",
         "width": 1,
         "x": [
          6,
          38
         ],
         "y": [
          0.0027023211087422684,
          0.0027023211087422684
         ]
        },
        {
         "base": [
          0,
          0
         ],
         "customdata": [
          [
           0.002432088997868042
          ],
          [
           0.002432088997868042
          ]
         ],
         "hovertemplate": "Top: %{y:.5f}m<br>Bottom: %{base:.5f}m<br>Thickness: %{customdata[0]:,.5f}m<br>Name: Settled 17<br><b>Cell</b>: %{x}<br>",
         "marker": {
          "color": [
           "rgb(0.162016, 0.687316, 0.499129)",
           "rgb(0.162016, 0.687316, 0.499129)",
           "rgb(0.162016, 0.687316, 0.499129)",
           "rgb(0.162016, 0.687316, 0.499129)",
           "rgb(0.162016, 0.687316, 0.499129)",
           "rgb(0.162016, 0.687316, 0.499129)",
           "rgb(0.162016, 0.687316, 0.499129)",
           "rgb(0.162016, 0.687316, 0.499129)",
           "rgb(0.162016, 0.687316, 0.499129)",
           "rgb(0.162016, 0.687316, 0.499129)",
           "rgb(0.162016, 0.687316, 0.499129)",
           "rgb(0.162016, 0.687316, 0.499129)",
           "rgb(0.162016, 0.687316, 0.499129)",
           "rgb(0.162016, 0.687316, 0.499129)",
           "rgb(0.162016, 0.687316, 0.499129)",
           "rgb(0.162016, 0.687316, 0.499129)",
           "rgb(0.162016, 0.687316, 0.499129)",
           "rgb(0.162016, 0.687316, 0.499129)",
           "rgb(0.162016, 0.687316, 0.499129)",
           "rgb(0.162016, 0.687316, 0.499129)",
           "rgb(0.162016, 0.687316, 0.499129)",
           "rgb(0.162016, 0.687316, 0.499129)",
           "rgb(0.162016, 0.687316, 0.499129)",
           "rgb(0.162016, 0.687316, 0.499129)",
           "rgb(0.162016, 0.687316, 0.499129)",
           "rgb(0.162016, 0.687316, 0.499129)",
           "rgb(0.162016, 0.687316, 0.499129)",
           "rgb(0.162016, 0.687316, 0.499129)",
           "rgb(0.162016, 0.687316, 0.499129)",
           "rgb(0.162016, 0.687316, 0.499129)",
           "rgb(0.162016, 0.687316, 0.499129)",
           "rgb(0.162016, 0.687316, 0.499129)",
           "rgb(0.162016, 0.687316, 0.499129)",
           "rgb(0.162016, 0.687316, 0.499129)",
           "rgb(0.162016, 0.687316, 0.499129)",
           "rgb(0.162016, 0.687316, 0.499129)",
           "rgb(0.162016, 0.687316, 0.499129)",
           "rgb(0.162016, 0.687316, 0.499129)",
           "rgb(0.162016, 0.687316, 0.499129)",
           "rgb(0.162016, 0.687316, 0.499129)",
           "rgb(0.162016, 0.687316, 0.499129)",
           "rgb(0.162016, 0.687316, 0.499129)",
           "rgb(0.162016, 0.687316, 0.499129)",
           "rgb(0.162016, 0.687316, 0.499129)",
           "rgb(0.162016, 0.687316, 0.499129)",
           "rgb(0.162016, 0.687316, 0.499129)",
           "rgb(0.162016, 0.687316, 0.499129)",
           "rgb(0.162016, 0.687316, 0.499129)",
           "rgb(0.162016, 0.687316, 0.499129)",
           "rgb(0.162016, 0.687316, 0.499129)"
          ],
          "line": {
           "width": 0
          }
         },
         "name": "Settled 17",
         "type": "bar",
         "width": 1,
         "x": [
          5,
          39
         ],
         "y": [
          0.002432088997868042,
          0.002432088997868042
         ]
        },
        {
         "base": [
          0,
          0
         ],
         "customdata": [
          [
           0.0021888800980812374
          ],
          [
           0.0021888800980812374
          ]
         ],
         "hovertemplate": "Top: %{y:.5f}m<br>Bottom: %{base:.5f}m<br>Thickness: %{customdata[0]:,.5f}m<br>Name: Settled 18<br><b>Cell</b>: %{x}<br>",
         "marker": {
          "color": [
           "rgb(0.20803, 0.718701, 0.472873)",
           "rgb(0.20803, 0.718701, 0.472873)",
           "rgb(0.20803, 0.718701, 0.472873)",
           "rgb(0.20803, 0.718701, 0.472873)",
           "rgb(0.20803, 0.718701, 0.472873)",
           "rgb(0.20803, 0.718701, 0.472873)",
           "rgb(0.20803, 0.718701, 0.472873)",
           "rgb(0.20803, 0.718701, 0.472873)",
           "rgb(0.20803, 0.718701, 0.472873)",
           "rgb(0.20803, 0.718701, 0.472873)",
           "rgb(0.20803, 0.718701, 0.472873)",
           "rgb(0.20803, 0.718701, 0.472873)",
           "rgb(0.20803, 0.718701, 0.472873)",
           "rgb(0.20803, 0.718701, 0.472873)",
           "rgb(0.20803, 0.718701, 0.472873)",
           "rgb(0.20803, 0.718701, 0.472873)",
           "rgb(0.20803, 0.718701, 0.472873)",
           "rgb(0.20803, 0.718701, 0.472873)",
           "rgb(0.20803, 0.718701, 0.472873)",
           "rgb(0.20803, 0.718701, 0.472873)",
           "rgb(0.20803, 0.718701, 0.472873)",
           "rgb(0.20803, 0.718701, 0.472873)",
           "rgb(0.20803, 0.718701, 0.472873)",
           "rgb(0.20803, 0.718701, 0.472873)",
           "rgb(0.20803, 0.718701, 0.472873)",
           "rgb(0.20803, 0.718701, 0.472873)",
           "rgb(0.20803, 0.718701, 0.472873)",
           "rgb(0.20803, 0.718701, 0.472873)",
           "rgb(0.20803, 0.718701, 0.472873)",
           "rgb(0.20803, 0.718701, 0.472873)",
           "rgb(0.20803, 0.718701, 0.472873)",
           "rgb(0.20803, 0.718701, 0.472873)",
           "rgb(0.20803, 0.718701, 0.472873)",
           "rgb(0.20803, 0.718701, 0.472873)",
           "rgb(0.20803, 0.718701, 0.472873)",
           "rgb(0.20803, 0.718701, 0.472873)",
           "rgb(0.20803, 0.718701, 0.472873)",
           "rgb(0.20803, 0.718701, 0.472873)",
           "rgb(0.20803, 0.718701, 0.472873)",
           "rgb(0.20803, 0.718701, 0.472873)",
           "rgb(0.20803, 0.718701, 0.472873)",
           "rgb(0.20803, 0.718701, 0.472873)",
           "rgb(0.20803, 0.718701, 0.472873)",
           "rgb(0.20803, 0.718701, 0.472873)",
           "rgb(0.20803, 0.718701, 0.472873)",
           "rgb(0.20803, 0.718701, 0.472873)",
           "rgb(0.20803, 0.718701, 0.472873)",
           "rgb(0.20803, 0.718701, 0.472873)",
           "rgb(0.20803, 0.718701, 0.472873)",
           "rgb(0.20803, 0.718701, 0.472873)"
          ],
          "line": {
           "width": 0
          }
         },
         "name": "Settled 18",
         "type": "bar",
         "width": 1,
         "x": [
          4,
          40
         ],
         "y": [
          0.0021888800980812374,
          0.0021888800980812374
         ]
        },
        {
         "base": [
          0,
          0
         ],
         "customdata": [
          [
           0.001969992088273114
          ],
          [
           0.001969992088273114
          ]
         ],
         "hovertemplate": "Top: %{y:.5f}m<br>Bottom: %{base:.5f}m<br>Thickness: %{customdata[0]:,.5f}m<br>Name: Settled 19<br><b>Cell</b>: %{x}<br>",
         "marker": {
          "color": [
           "rgb(0.274149, 0.751988, 0.436601)",
           "rgb(0.274149, 0.751988, 0.436601)",
           "rgb(0.274149, 0.751988, 0.436601)",
           "rgb(0.274149, 0.751988, 0.436601)",
           "rgb(0.274149, 0.751988, 0.436601)",
           "rgb(0.274149, 0.751988, 0.436601)",
           "rgb(0.274149, 0.751988, 0.436601)",
           "rgb(0.274149, 0.751988, 0.436601)",
           "rgb(0.274149, 0.751988, 0.436601)",
           "rgb(0.274149, 0.751988, 0.436601)",
           "rgb(0.274149, 0.751988, 0.436601)",
           "rgb(0.274149, 0.751988, 0.436601)",
           "rgb(0.274149, 0.751988, 0.436601)",
           "rgb(0.274149, 0.751988, 0.436601)",
           "rgb(0.274149, 0.751988, 0.436601)",
           "rgb(0.274149, 0.751988, 0.436601)",
           "rgb(0.274149, 0.751988, 0.436601)",
           "rgb(0.274149, 0.751988, 0.436601)",
           "rgb(0.274149, 0.751988, 0.436601)",
           "rgb(0.274149, 0.751988, 0.436601)",
           "rgb(0.274149, 0.751988, 0.436601)",
           "rgb(0.274149, 0.751988, 0.436601)",
           "rgb(0.274149, 0.751988, 0.436601)",
           "rgb(0.274149, 0.751988, 0.436601)",
           "rgb(0.274149, 0.751988, 0.436601)",
           "rgb(0.274149, 0.751988, 0.436601)",
           "rgb(0.274149, 0.751988, 0.436601)",
           "rgb(0.274149, 0.751988, 0.436601)",
           "rgb(0.274149, 0.751988, 0.436601)",
           "rgb(0.274149, 0.751988, 0.436601)",
           "rgb(0.274149, 0.751988, 0.436601)",
           "rgb(0.274149, 0.751988, 0.436601)",
           "rgb(0.274149, 0.751988, 0.436601)",
           "rgb(0.274149, 0.751988, 0.436601)",
           "rgb(0.274149, 0.751988, 0.436601)",
           "rgb(0.274149, 0.751988, 0.436601)",
           "rgb(0.274149, 0.751988, 0.436601)",
           "rgb(0.274149, 0.751988, 0.436601)",
           "rgb(0.274149, 0.751988, 0.436601)",
           "rgb(0.274149, 0.751988, 0.436601)",
           "rgb(0.274149, 0.751988, 0.436601)",
           "rgb(0.274149, 0.751988, 0.436601)",
           "rgb(0.274149, 0.751988, 0.436601)",
           "rgb(0.274149, 0.751988, 0.436601)",
           "rgb(0.274149, 0.751988, 0.436601)",
           "rgb(0.274149, 0.751988, 0.436601)",
           "rgb(0.274149, 0.751988, 0.436601)",
           "rgb(0.274149, 0.751988, 0.436601)",
           "rgb(0.274149, 0.751988, 0.436601)",
           "rgb(0.274149, 0.751988, 0.436601)"
          ],
          "line": {
           "width": 0
          }
         },
         "name": "Settled 19",
         "type": "bar",
         "width": 1,
         "x": [
          3,
          41
         ],
         "y": [
          0.001969992088273114,
          0.001969992088273114
         ]
        },
        {
         "base": [
          0,
          0
         ],
         "customdata": [
          [
           0.0017729928794458024
          ],
          [
           0.0017729928794458024
          ]
         ],
         "hovertemplate": "Top: %{y:.5f}m<br>Bottom: %{base:.5f}m<br>Thickness: %{customdata[0]:,.5f}m<br>Name: Settled 20<br><b>Cell</b>: %{x}<br>",
         "marker": {
          "color": [
           "rgb(0.344074, 0.780029, 0.397381)",
           "rgb(0.344074, 0.780029, 0.397381)",
           "rgb(0.344074, 0.780029, 0.397381)",
           "rgb(0.344074, 0.780029, 0.397381)",
           "rgb(0.344074, 0.780029, 0.397381)",
           "rgb(0.344074, 0.780029, 0.397381)",
           "rgb(0.344074, 0.780029, 0.397381)",
           "rgb(0.344074, 0.780029, 0.397381)",
           "rgb(0.344074, 0.780029, 0.397381)",
           "rgb(0.344074, 0.780029, 0.397381)",
           "rgb(0.344074, 0.780029, 0.397381)",
           "rgb(0.344074, 0.780029, 0.397381)",
           "rgb(0.344074, 0.780029, 0.397381)",
           "rgb(0.344074, 0.780029, 0.397381)",
           "rgb(0.344074, 0.780029, 0.397381)",
           "rgb(0.344074, 0.780029, 0.397381)",
           "rgb(0.344074, 0.780029, 0.397381)",
           "rgb(0.344074, 0.780029, 0.397381)",
           "rgb(0.344074, 0.780029, 0.397381)",
           "rgb(0.344074, 0.780029, 0.397381)",
           "rgb(0.344074, 0.780029, 0.397381)",
           "rgb(0.344074, 0.780029, 0.397381)",
           "rgb(0.344074, 0.780029, 0.397381)",
           "rgb(0.344074, 0.780029, 0.397381)",
           "rgb(0.344074, 0.780029, 0.397381)",
           "rgb(0.344074, 0.780029, 0.397381)",
           "rgb(0.344074, 0.780029, 0.397381)",
           "rgb(0.344074, 0.780029, 0.397381)",
           "rgb(0.344074, 0.780029, 0.397381)",
           "rgb(0.344074, 0.780029, 0.397381)",
           "rgb(0.344074, 0.780029, 0.397381)",
           "rgb(0.344074, 0.780029, 0.397381)",
           "rgb(0.344074, 0.780029, 0.397381)",
           "rgb(0.344074, 0.780029, 0.397381)",
           "rgb(0.344074, 0.780029, 0.397381)",
           "rgb(0.344074, 0.780029, 0.397381)",
           "rgb(0.344074, 0.780029, 0.397381)",
           "rgb(0.344074, 0.780029, 0.397381)",
           "rgb(0.344074, 0.780029, 0.397381)",
           "rgb(0.344074, 0.780029, 0.397381)",
           "rgb(0.344074, 0.780029, 0.397381)",
           "rgb(0.344074, 0.780029, 0.397381)",
           "rgb(0.344074, 0.780029, 0.397381)",
           "rgb(0.344074, 0.780029, 0.397381)",
           "rgb(0.344074, 0.780029, 0.397381)",
           "rgb(0.344074, 0.780029, 0.397381)",
           "rgb(0.344074, 0.780029, 0.397381)",
           "rgb(0.344074, 0.780029, 0.397381)",
           "rgb(0.344074, 0.780029, 0.397381)",
           "rgb(0.344074, 0.780029, 0.397381)"
          ],
          "line": {
           "width": 0
          }
         },
         "name": "Settled 20",
         "type": "bar",
         "width": 1,
         "x": [
          2,
          42
         ],
         "y": [
          0.0017729928794458024,
          0.0017729928794458024
         ]
        },
        {
         "base": [
          0,
          0
         ],
         "customdata": [
          [
           0.0015956935915012222
          ],
          [
           0.0015956935915012222
          ]
         ],
         "hovertemplate": "Top: %{y:.5f}m<br>Bottom: %{base:.5f}m<br>Thickness: %{customdata[0]:,.5f}m<br>Name: Settled 21<br><b>Cell</b>: %{x}<br>",
         "marker": {
          "color": [
           "rgb(0.430983, 0.808473, 0.346476)",
           "rgb(0.430983, 0.808473, 0.346476)",
           "rgb(0.430983, 0.808473, 0.346476)",
           "rgb(0.430983, 0.808473, 0.346476)",
           "rgb(0.430983, 0.808473, 0.346476)",
           "rgb(0.430983, 0.808473, 0.346476)",
           "rgb(0.430983, 0.808473, 0.346476)",
           "rgb(0.430983, 0.808473, 0.346476)",
           "rgb(0.430983, 0.808473, 0.346476)",
           "rgb(0.430983, 0.808473, 0.346476)",
           "rgb(0.430983, 0.808473, 0.346476)",
           "rgb(0.430983, 0.808473, 0.346476)",
           "rgb(0.430983, 0.808473, 0.346476)",
           "rgb(0.430983, 0.808473, 0.346476)",
           "rgb(0.430983, 0.808473, 0.346476)",
           "rgb(0.430983, 0.808473, 0.346476)",
           "rgb(0.430983, 0.808473, 0.346476)",
           "rgb(0.430983, 0.808473, 0.346476)",
           "rgb(0.430983, 0.808473, 0.346476)",
           "rgb(0.430983, 0.808473, 0.346476)",
           "rgb(0.430983, 0.808473, 0.346476)",
           "rgb(0.430983, 0.808473, 0.346476)",
           "rgb(0.430983, 0.808473, 0.346476)",
           "rgb(0.430983, 0.808473, 0.346476)",
           "rgb(0.430983, 0.808473, 0.346476)",
           "rgb(0.430983, 0.808473, 0.346476)",
           "rgb(0.430983, 0.808473, 0.346476)",
           "rgb(0.430983, 0.808473, 0.346476)",
           "rgb(0.430983, 0.808473, 0.346476)",
           "rgb(0.430983, 0.808473, 0.346476)",
           "rgb(0.430983, 0.808473, 0.346476)",
           "rgb(0.430983, 0.808473, 0.346476)",
           "rgb(0.430983, 0.808473, 0.346476)",
           "rgb(0.430983, 0.808473, 0.346476)",
           "rgb(0.430983, 0.808473, 0.346476)",
           "rgb(0.430983, 0.808473, 0.346476)",
           "rgb(0.430983, 0.808473, 0.346476)",
           "rgb(0.430983, 0.808473, 0.346476)",
           "rgb(0.430983, 0.808473, 0.346476)",
           "rgb(0.430983, 0.808473, 0.346476)",
           "rgb(0.430983, 0.808473, 0.346476)",
           "rgb(0.430983, 0.808473, 0.346476)",
           "rgb(0.430983, 0.808473, 0.346476)",
           "rgb(0.430983, 0.808473, 0.346476)",
           "rgb(0.430983, 0.808473, 0.346476)",
           "rgb(0.430983, 0.808473, 0.346476)",
           "rgb(0.430983, 0.808473, 0.346476)",
           "rgb(0.430983, 0.808473, 0.346476)",
           "rgb(0.430983, 0.808473, 0.346476)",
           "rgb(0.430983, 0.808473, 0.346476)"
          ],
          "line": {
           "width": 0
          }
         },
         "name": "Settled 21",
         "type": "bar",
         "width": 1,
         "x": [
          1,
          43
         ],
         "y": [
          0.0015956935915012222,
          0.0015956935915012222
         ]
        },
        {
         "base": [
          0,
          0
         ],
         "customdata": [
          [
           0.0014361242323511002
          ],
          [
           0.0014361242323511002
          ]
         ],
         "hovertemplate": "Top: %{y:.5f}m<br>Bottom: %{base:.5f}m<br>Thickness: %{customdata[0]:,.5f}m<br>Name: Settled 22<br><b>Cell</b>: %{x}<br>",
         "marker": {
          "color": [
           "rgb(0.515992, 0.831158, 0.294279)",
           "rgb(0.515992, 0.831158, 0.294279)",
           "rgb(0.515992, 0.831158, 0.294279)",
           "rgb(0.515992, 0.831158, 0.294279)",
           "rgb(0.515992, 0.831158, 0.294279)",
           "rgb(0.515992, 0.831158, 0.294279)",
           "rgb(0.515992, 0.831158, 0.294279)",
           "rgb(0.515992, 0.831158, 0.294279)",
           "rgb(0.515992, 0.831158, 0.294279)",
           "rgb(0.515992, 0.831158, 0.294279)",
           "rgb(0.515992, 0.831158, 0.294279)",
           "rgb(0.515992, 0.831158, 0.294279)",
           "rgb(0.515992, 0.831158, 0.294279)",
           "rgb(0.515992, 0.831158, 0.294279)",
           "rgb(0.515992, 0.831158, 0.294279)",
           "rgb(0.515992, 0.831158, 0.294279)",
           "rgb(0.515992, 0.831158, 0.294279)",
           "rgb(0.515992, 0.831158, 0.294279)",
           "rgb(0.515992, 0.831158, 0.294279)",
           "rgb(0.515992, 0.831158, 0.294279)",
           "rgb(0.515992, 0.831158, 0.294279)",
           "rgb(0.515992, 0.831158, 0.294279)",
           "rgb(0.515992, 0.831158, 0.294279)",
           "rgb(0.515992, 0.831158, 0.294279)",
           "rgb(0.515992, 0.831158, 0.294279)",
           "rgb(0.515992, 0.831158, 0.294279)",
           "rgb(0.515992, 0.831158, 0.294279)",
           "rgb(0.515992, 0.831158, 0.294279)",
           "rgb(0.515992, 0.831158, 0.294279)",
           "rgb(0.515992, 0.831158, 0.294279)",
           "rgb(0.515992, 0.831158, 0.294279)",
           "rgb(0.515992, 0.831158, 0.294279)",
           "rgb(0.515992, 0.831158, 0.294279)",
           "rgb(0.515992, 0.831158, 0.294279)",
           "rgb(0.515992, 0.831158, 0.294279)",
           "rgb(0.515992, 0.831158, 0.294279)",
           "rgb(0.515992, 0.831158, 0.294279)",
           "rgb(0.515992, 0.831158, 0.294279)",
           "rgb(0.515992, 0.831158, 0.294279)",
           "rgb(0.515992, 0.831158, 0.294279)",
           "rgb(0.515992, 0.831158, 0.294279)",
           "rgb(0.515992, 0.831158, 0.294279)",
           "rgb(0.515992, 0.831158, 0.294279)",
           "rgb(0.515992, 0.831158, 0.294279)",
           "rgb(0.515992, 0.831158, 0.294279)",
           "rgb(0.515992, 0.831158, 0.294279)",
           "rgb(0.515992, 0.831158, 0.294279)",
           "rgb(0.515992, 0.831158, 0.294279)",
           "rgb(0.515992, 0.831158, 0.294279)",
           "rgb(0.515992, 0.831158, 0.294279)"
          ],
          "line": {
           "width": 0
          }
         },
         "name": "Settled 22",
         "type": "bar",
         "width": 1,
         "x": [
          0,
          44
         ],
         "y": [
          0.0014361242323511002,
          0.0014361242323511002
         ]
        },
        {
         "base": [
          0
         ],
         "customdata": [
          [
           0.00129251180911599
          ]
         ],
         "hovertemplate": "Top: %{y:.5f}m<br>Bottom: %{base:.5f}m<br>Thickness: %{customdata[0]:,.5f}m<br>Name: Settled 23<br><b>Cell</b>: %{x}<br>",
         "marker": {
          "color": [
           "rgb(0.616293, 0.852709, 0.230052)",
           "rgb(0.616293, 0.852709, 0.230052)",
           "rgb(0.616293, 0.852709, 0.230052)",
           "rgb(0.616293, 0.852709, 0.230052)",
           "rgb(0.616293, 0.852709, 0.230052)",
           "rgb(0.616293, 0.852709, 0.230052)",
           "rgb(0.616293, 0.852709, 0.230052)",
           "rgb(0.616293, 0.852709, 0.230052)",
           "rgb(0.616293, 0.852709, 0.230052)",
           "rgb(0.616293, 0.852709, 0.230052)",
           "rgb(0.616293, 0.852709, 0.230052)",
           "rgb(0.616293, 0.852709, 0.230052)",
           "rgb(0.616293, 0.852709, 0.230052)",
           "rgb(0.616293, 0.852709, 0.230052)",
           "rgb(0.616293, 0.852709, 0.230052)",
           "rgb(0.616293, 0.852709, 0.230052)",
           "rgb(0.616293, 0.852709, 0.230052)",
           "rgb(0.616293, 0.852709, 0.230052)",
           "rgb(0.616293, 0.852709, 0.230052)",
           "rgb(0.616293, 0.852709, 0.230052)",
           "rgb(0.616293, 0.852709, 0.230052)",
           "rgb(0.616293, 0.852709, 0.230052)",
           "rgb(0.616293, 0.852709, 0.230052)",
           "rgb(0.616293, 0.852709, 0.230052)",
           "rgb(0.616293, 0.852709, 0.230052)",
           "rgb(0.616293, 0.852709, 0.230052)",
           "rgb(0.616293, 0.852709, 0.230052)",
           "rgb(0.616293, 0.852709, 0.230052)",
           "rgb(0.616293, 0.852709, 0.230052)",
           "rgb(0.616293, 0.852709, 0.230052)",
           "rgb(0.616293, 0.852709, 0.230052)",
           "rgb(0.616293, 0.852709, 0.230052)",
           "rgb(0.616293, 0.852709, 0.230052)",
           "rgb(0.616293, 0.852709, 0.230052)",
           "rgb(0.616293, 0.852709, 0.230052)",
           "rgb(0.616293, 0.852709, 0.230052)",
           "rgb(0.616293, 0.852709, 0.230052)",
           "rgb(0.616293, 0.852709, 0.230052)",
           "rgb(0.616293, 0.852709, 0.230052)",
           "rgb(0.616293, 0.852709, 0.230052)",
           "rgb(0.616293, 0.852709, 0.230052)",
           "rgb(0.616293, 0.852709, 0.230052)",
           "rgb(0.616293, 0.852709, 0.230052)",
           "rgb(0.616293, 0.852709, 0.230052)",
           "rgb(0.616293, 0.852709, 0.230052)",
           "rgb(0.616293, 0.852709, 0.230052)",
           "rgb(0.616293, 0.852709, 0.230052)",
           "rgb(0.616293, 0.852709, 0.230052)",
           "rgb(0.616293, 0.852709, 0.230052)",
           "rgb(0.616293, 0.852709, 0.230052)"
          ],
          "line": {
           "width": 0
          }
         },
         "name": "Settled 23",
         "type": "bar",
         "width": 1,
         "x": [
          45
         ],
         "y": [
          0.00129251180911599
         ]
        },
        {
         "base": [
          0
         ],
         "customdata": [
          [
           0.001163260628204391
          ]
         ],
         "hovertemplate": "Top: %{y:.5f}m<br>Bottom: %{base:.5f}m<br>Thickness: %{customdata[0]:,.5f}m<br>Name: Settled 24<br><b>Cell</b>: %{x}<br>",
         "marker": {
          "color": [
           "rgb(0.709898, 0.868751, 0.169257)",
           "rgb(0.709898, 0.868751, 0.169257)",
           "rgb(0.709898, 0.868751, 0.169257)",
           "rgb(0.709898, 0.868751, 0.169257)",
           "rgb(0.709898, 0.868751, 0.169257)",
           "rgb(0.709898, 0.868751, 0.169257)",
           "rgb(0.709898, 0.868751, 0.169257)",
           "rgb(0.709898, 0.868751, 0.169257)",
           "rgb(0.709898, 0.868751, 0.169257)",
           "rgb(0.709898, 0.868751, 0.169257)",
           "rgb(0.709898, 0.868751, 0.169257)",
           "rgb(0.709898, 0.868751, 0.169257)",
           "rgb(0.709898, 0.868751, 0.169257)",
           "rgb(0.709898, 0.868751, 0.169257)",
           "rgb(0.709898, 0.868751, 0.169257)",
           "rgb(0.709898, 0.868751, 0.169257)",
           "rgb(0.709898, 0.868751, 0.169257)",
           "rgb(0.709898, 0.868751, 0.169257)",
           "rgb(0.709898, 0.868751, 0.169257)",
           "rgb(0.709898, 0.868751, 0.169257)",
           "rgb(0.709898, 0.868751, 0.169257)",
           "rgb(0.709898, 0.868751, 0.169257)",
           "rgb(0.709898, 0.868751, 0.169257)",
           "rgb(0.709898, 0.868751, 0.169257)",
           "rgb(0.709898, 0.868751, 0.169257)",
           "rgb(0.709898, 0.868751, 0.169257)",
           "rgb(0.709898, 0.868751, 0.169257)",
           "rgb(0.709898, 0.868751, 0.169257)",
           "rgb(0.709898, 0.868751, 0.169257)",
           "rgb(0.709898, 0.868751, 0.169257)",
           "rgb(0.709898, 0.868751, 0.169257)",
           "rgb(0.709898, 0.868751, 0.169257)",
           "rgb(0.709898, 0.868751, 0.169257)",
           "rgb(0.709898, 0.868751, 0.169257)",
           "rgb(0.709898, 0.868751, 0.169257)",
           "rgb(0.709898, 0.868751, 0.169257)",
           "rgb(0.709898, 0.868751, 0.169257)",
           "rgb(0.709898, 0.868751, 0.169257)",
           "rgb(0.709898, 0.868751, 0.169257)",
           "rgb(0.709898, 0.868751, 0.169257)",
           "rgb(0.709898, 0.868751, 0.169257)",
           "rgb(0.709898, 0.868751, 0.169257)",
           "rgb(0.709898, 0.868751, 0.169257)",
           "rgb(0.709898, 0.868751, 0.169257)",
           "rgb(0.709898, 0.868751, 0.169257)",
           "rgb(0.709898, 0.868751, 0.169257)",
           "rgb(0.709898, 0.868751, 0.169257)",
           "rgb(0.709898, 0.868751, 0.169257)",
           "rgb(0.709898, 0.868751, 0.169257)",
           "rgb(0.709898, 0.868751, 0.169257)"
          ],
          "line": {
           "width": 0
          }
         },
         "name": "Settled 24",
         "type": "bar",
         "width": 1,
         "x": [
          46
         ],
         "y": [
          0.001163260628204391
         ]
        },
        {
         "base": [
          0
         ],
         "customdata": [
          [
           0.0010469345653839517
          ]
         ],
         "hovertemplate": "Top: %{y:.5f}m<br>Bottom: %{base:.5f}m<br>Thickness: %{customdata[0]:,.5f}m<br>Name: Settled 25<br><b>Cell</b>: %{x}<br>",
         "marker": {
          "color": [
           "rgb(0.814576, 0.883393, 0.110347)",
           "rgb(0.814576, 0.883393, 0.110347)",
           "rgb(0.814576, 0.883393, 0.110347)",
           "rgb(0.814576, 0.883393, 0.110347)",
           "rgb(0.814576, 0.883393, 0.110347)",
           "rgb(0.814576, 0.883393, 0.110347)",
           "rgb(0.814576, 0.883393, 0.110347)",
           "rgb(0.814576, 0.883393, 0.110347)",
           "rgb(0.814576, 0.883393, 0.110347)",
           "rgb(0.814576, 0.883393, 0.110347)",
           "rgb(0.814576, 0.883393, 0.110347)",
           "rgb(0.814576, 0.883393, 0.110347)",
           "rgb(0.814576, 0.883393, 0.110347)",
           "rgb(0.814576, 0.883393, 0.110347)",
           "rgb(0.814576, 0.883393, 0.110347)",
           "rgb(0.814576, 0.883393, 0.110347)",
           "rgb(0.814576, 0.883393, 0.110347)",
           "rgb(0.814576, 0.883393, 0.110347)",
           "rgb(0.814576, 0.883393, 0.110347)",
           "rgb(0.814576, 0.883393, 0.110347)",
           "rgb(0.814576, 0.883393, 0.110347)",
           "rgb(0.814576, 0.883393, 0.110347)",
           "rgb(0.814576, 0.883393, 0.110347)",
           "rgb(0.814576, 0.883393, 0.110347)",
           "rgb(0.814576, 0.883393, 0.110347)",
           "rgb(0.814576, 0.883393, 0.110347)",
           "rgb(0.814576, 0.883393, 0.110347)",
           "rgb(0.814576, 0.883393, 0.110347)",
           "rgb(0.814576, 0.883393, 0.110347)",
           "rgb(0.814576, 0.883393, 0.110347)",
           "rgb(0.814576, 0.883393, 0.110347)",
           "rgb(0.814576, 0.883393, 0.110347)",
           "rgb(0.814576, 0.883393, 0.110347)",
           "rgb(0.814576, 0.883393, 0.110347)",
           "rgb(0.814576, 0.883393, 0.110347)",
           "rgb(0.814576, 0.883393, 0.110347)",
           "rgb(0.814576, 0.883393, 0.110347)",
           "rgb(0.814576, 0.883393, 0.110347)",
           "rgb(0.814576, 0.883393, 0.110347)",
           "rgb(0.814576, 0.883393, 0.110347)",
           "rgb(0.814576, 0.883393, 0.110347)",
           "rgb(0.814576, 0.883393, 0.110347)",
           "rgb(0.814576, 0.883393, 0.110347)",
           "rgb(0.814576, 0.883393, 0.110347)",
           "rgb(0.814576, 0.883393, 0.110347)",
           "rgb(0.814576, 0.883393, 0.110347)",
           "rgb(0.814576, 0.883393, 0.110347)",
           "rgb(0.814576, 0.883393, 0.110347)",
           "rgb(0.814576, 0.883393, 0.110347)",
           "rgb(0.814576, 0.883393, 0.110347)"
          ],
          "line": {
           "width": 0
          }
         },
         "name": "Settled 25",
         "type": "bar",
         "width": 1,
         "x": [
          47
         ],
         "y": [
          0.0010469345653839517
         ]
        },
        {
         "base": [
          0
         ],
         "customdata": [
          [
           0.0009422411088455567
          ]
         ],
         "hovertemplate": "Top: %{y:.5f}m<br>Bottom: %{base:.5f}m<br>Thickness: %{customdata[0]:,.5f}m<br>Name: Settled 26<br><b>Cell</b>: %{x}<br>",
         "marker": {
          "color": [
           "rgb(0.906311, 0.894855, 0.098125)",
           "rgb(0.906311, 0.894855, 0.098125)",
           "rgb(0.906311, 0.894855, 0.098125)",
           "rgb(0.906311, 0.894855, 0.098125)",
           "rgb(0.906311, 0.894855, 0.098125)",
           "rgb(0.906311, 0.894855, 0.098125)",
           "rgb(0.906311, 0.894855, 0.098125)",
           "rgb(0.906311, 0.894855, 0.098125)",
           "rgb(0.906311, 0.894855, 0.098125)",
           "rgb(0.906311, 0.894855, 0.098125)",
           "rgb(0.906311, 0.894855, 0.098125)",
           "rgb(0.906311, 0.894855, 0.098125)",
           "rgb(0.906311, 0.894855, 0.098125)",
           "rgb(0.906311, 0.894855, 0.098125)",
           "rgb(0.906311, 0.894855, 0.098125)",
           "rgb(0.906311, 0.894855, 0.098125)",
           "rgb(0.906311, 0.894855, 0.098125)",
           "rgb(0.906311, 0.894855, 0.098125)",
           "rgb(0.906311, 0.894855, 0.098125)",
           "rgb(0.906311, 0.894855, 0.098125)",
           "rgb(0.906311, 0.894855, 0.098125)",
           "rgb(0.906311, 0.894855, 0.098125)",
           "rgb(0.906311, 0.894855, 0.098125)",
           "rgb(0.906311, 0.894855, 0.098125)",
           "rgb(0.906311, 0.894855, 0.098125)",
           "rgb(0.906311, 0.894855, 0.098125)",
           "rgb(0.906311, 0.894855, 0.098125)",
           "rgb(0.906311, 0.894855, 0.098125)",
           "rgb(0.906311, 0.894855, 0.098125)",
           "rgb(0.906311, 0.894855, 0.098125)",
           "rgb(0.906311, 0.894855, 0.098125)",
           "rgb(0.906311, 0.894855, 0.098125)",
           "rgb(0.906311, 0.894855, 0.098125)",
           "rgb(0.906311, 0.894855, 0.098125)",
           "rgb(0.906311, 0.894855, 0.098125)",
           "rgb(0.906311, 0.894855, 0.098125)",
           "rgb(0.906311, 0.894855, 0.098125)",
           "rgb(0.906311, 0.894855, 0.098125)",
           "rgb(0.906311, 0.894855, 0.098125)",
           "rgb(0.906311, 0.894855, 0.098125)",
           "rgb(0.906311, 0.894855, 0.098125)",
           "rgb(0.906311, 0.894855, 0.098125)",
           "rgb(0.906311, 0.894855, 0.098125)",
           "rgb(0.906311, 0.894855, 0.098125)",
           "rgb(0.906311, 0.894855, 0.098125)",
           "rgb(0.906311, 0.894855, 0.098125)",
           "rgb(0.906311, 0.894855, 0.098125)",
           "rgb(0.906311, 0.894855, 0.098125)",
           "rgb(0.906311, 0.894855, 0.098125)",
           "rgb(0.906311, 0.894855, 0.098125)"
          ],
          "line": {
           "width": 0
          }
         },
         "name": "Settled 26",
         "type": "bar",
         "width": 1,
         "x": [
          48
         ],
         "y": [
          0.0009422411088455567
         ]
        },
        {
         "base": [
          0
         ],
         "customdata": [
          [
           0.000848016997961001
          ]
         ],
         "hovertemplate": "Top: %{y:.5f}m<br>Bottom: %{base:.5f}m<br>Thickness: %{customdata[0]:,.5f}m<br>Name: Settled 27<br><b>Cell</b>: %{x}<br>",
         "marker": {
          "color": [
           "rgb(0.993248, 0.906157, 0.143936)",
           "rgb(0.993248, 0.906157, 0.143936)",
           "rgb(0.993248, 0.906157, 0.143936)",
           "rgb(0.993248, 0.906157, 0.143936)",
           "rgb(0.993248, 0.906157, 0.143936)",
           "rgb(0.993248, 0.906157, 0.143936)",
           "rgb(0.993248, 0.906157, 0.143936)",
           "rgb(0.993248, 0.906157, 0.143936)",
           "rgb(0.993248, 0.906157, 0.143936)",
           "rgb(0.993248, 0.906157, 0.143936)",
           "rgb(0.993248, 0.906157, 0.143936)",
           "rgb(0.993248, 0.906157, 0.143936)",
           "rgb(0.993248, 0.906157, 0.143936)",
           "rgb(0.993248, 0.906157, 0.143936)",
           "rgb(0.993248, 0.906157, 0.143936)",
           "rgb(0.993248, 0.906157, 0.143936)",
           "rgb(0.993248, 0.906157, 0.143936)",
           "rgb(0.993248, 0.906157, 0.143936)",
           "rgb(0.993248, 0.906157, 0.143936)",
           "rgb(0.993248, 0.906157, 0.143936)",
           "rgb(0.993248, 0.906157, 0.143936)",
           "rgb(0.993248, 0.906157, 0.143936)",
           "rgb(0.993248, 0.906157, 0.143936)",
           "rgb(0.993248, 0.906157, 0.143936)",
           "rgb(0.993248, 0.906157, 0.143936)",
           "rgb(0.993248, 0.906157, 0.143936)",
           "rgb(0.993248, 0.906157, 0.143936)",
           "rgb(0.993248, 0.906157, 0.143936)",
           "rgb(0.993248, 0.906157, 0.143936)",
           "rgb(0.993248, 0.906157, 0.143936)",
           "rgb(0.993248, 0.906157, 0.143936)",
           "rgb(0.993248, 0.906157, 0.143936)",
           "rgb(0.993248, 0.906157, 0.143936)",
           "rgb(0.993248, 0.906157, 0.143936)",
           "rgb(0.993248, 0.906157, 0.143936)",
           "rgb(0.993248, 0.906157, 0.143936)",
           "rgb(0.993248, 0.906157, 0.143936)",
           "rgb(0.993248, 0.906157, 0.143936)",
           "rgb(0.993248, 0.906157, 0.143936)",
           "rgb(0.993248, 0.906157, 0.143936)",
           "rgb(0.993248, 0.906157, 0.143936)",
           "rgb(0.993248, 0.906157, 0.143936)",
           "rgb(0.993248, 0.906157, 0.143936)",
           "rgb(0.993248, 0.906157, 0.143936)",
           "rgb(0.993248, 0.906157, 0.143936)",
           "rgb(0.993248, 0.906157, 0.143936)",
           "rgb(0.993248, 0.906157, 0.143936)",
           "rgb(0.993248, 0.906157, 0.143936)",
           "rgb(0.993248, 0.906157, 0.143936)",
           "rgb(0.993248, 0.906157, 0.143936)"
          ],
          "line": {
           "width": 0
          }
         },
         "name": "Settled 27",
         "type": "bar",
         "width": 1,
         "x": [
          49
         ],
         "y": [
          0.000848016997961001
         ]
        },
        {
         "base": [
          -0.2,
          -0.2,
          -0.2,
          -0.2,
          -0.2,
          -0.2,
          -0.2,
          -0.2,
          -0.2,
          -0.2,
          -0.2,
          -0.2,
          -0.2,
          -0.2,
          -0.2,
          -0.2,
          -0.2,
          -0.2,
          -0.2,
          -0.2,
          -0.2,
          -0.2,
          -0.2,
          -0.2,
          -0.2,
          -0.2,
          -0.2,
          -0.2,
          -0.2,
          -0.2,
          -0.2,
          -0.2,
          -0.2,
          -0.2,
          -0.2,
          -0.2,
          -0.2,
          -0.2,
          -0.2,
          -0.2,
          -0.2,
          -0.2,
          -0.2,
          -0.2,
          -0.2,
          -0.2,
          -0.2,
          -0.2,
          -0.2,
          -0.2
         ],
         "customdata": [
          [
           0.2
          ],
          [
           0.2
          ],
          [
           0.2
          ],
          [
           0.2
          ],
          [
           0.2
          ],
          [
           0.2
          ],
          [
           0.2
          ],
          [
           0.2
          ],
          [
           0.2
          ],
          [
           0.2
          ],
          [
           0.2
          ],
          [
           0.2
          ],
          [
           0.2
          ],
          [
           0.2
          ],
          [
           0.2
          ],
          [
           0.2
          ],
          [
           0.2
          ],
          [
           0.2
          ],
          [
           0.2
          ],
          [
           0.2
          ],
          [
           0.2
          ],
          [
           0.2
          ],
          [
           0.1
          ],
          [
           0.2
          ],
          [
           0.2
          ],
          [
           0.2
          ],
          [
           0.2
          ],
          [
           0.2
          ],
          [
           0.2
          ],
          [
           0.2
          ],
          [
           0.2
          ],
          [
           0.2
          ],
          [
           0.2
          ],
          [
           0.2
          ],
          [
           0.2
          ],
          [
           0.2
          ],
          [
           0.2
          ],
          [
           0.2
          ],
          [
           0.2
          ],
          [
           0.2
          ],
          [
           0.2
          ],
          [
           0.2
          ],
          [
           0.2
          ],
          [
           0.2
          ],
          [
           0.2
          ],
          [
           0.2
          ],
          [
           0.2
          ],
          [
           0.2
          ],
          [
           0.2
          ],
          [
           0.2
          ]
         ],
         "hovertemplate": "Top: %{y:.5f}m<br>Bottom: %{base:.5f}m<br>Thickness: %{customdata[0]:,.5f}m<br>Name: seabed<br><b>Cell</b>: %{x}<br>",
         "marker": {
          "color": [
           "#2e2e2e",
           "#2e2e2e",
           "#2e2e2e",
           "#2e2e2e",
           "#2e2e2e",
           "#2e2e2e",
           "#2e2e2e",
           "#2e2e2e",
           "#2e2e2e",
           "#2e2e2e",
           "#2e2e2e",
           "#2e2e2e",
           "#2e2e2e",
           "#2e2e2e",
           "#2e2e2e",
           "#2e2e2e",
           "#2e2e2e",
           "#2e2e2e",
           "#2e2e2e",
           "#2e2e2e",
           "#2e2e2e",
           "#2e2e2e",
           "#2e2e2e",
           "#2e2e2e",
           "#2e2e2e",
           "#2e2e2e",
           "#2e2e2e",
           "#2e2e2e",
           "#2e2e2e",
           "#2e2e2e",
           "#2e2e2e",
           "#2e2e2e",
           "#2e2e2e",
           "#2e2e2e",
           "#2e2e2e",
           "#2e2e2e",
           "#2e2e2e",
           "#2e2e2e",
           "#2e2e2e",
           "#2e2e2e",
           "#2e2e2e",
           "#2e2e2e",
           "#2e2e2e",
           "#2e2e2e",
           "#2e2e2e",
           "#2e2e2e",
           "#2e2e2e",
           "#2e2e2e",
           "#2e2e2e",
           "#2e2e2e"
          ],
          "line": {
           "width": 0
          }
         },
         "name": "seabed",
         "type": "bar",
         "width": 1,
         "x": [
          0,
          1,
          2,
          3,
          4,
          5,
          6,
          7,
          8,
          9,
          10,
          11,
          12,
          13,
          14,
          15,
          16,
          17,
          18,
          19,
          20,
          21,
          22,
          23,
          24,
          25,
          26,
          27,
          28,
          29,
          30,
          31,
          32,
          33,
          34,
          35,
          36,
          37,
          38,
          39,
          40,
          41,
          42,
          43,
          44,
          45,
          46,
          47,
          48,
          49
         ],
         "y": [
          0.2,
          0.2,
          0.2,
          0.2,
          0.2,
          0.2,
          0.2,
          0.2,
          0.2,
          0.2,
          0.2,
          0.2,
          0.2,
          0.2,
          0.2,
          0.2,
          0.2,
          0.2,
          0.2,
          0.2,
          0.2,
          0.2,
          0.1,
          0.2,
          0.2,
          0.2,
          0.2,
          0.2,
          0.2,
          0.2,
          0.2,
          0.2,
          0.2,
          0.2,
          0.2,
          0.2,
          0.2,
          0.2,
          0.2,
          0.2,
          0.2,
          0.2,
          0.2,
          0.2,
          0.2,
          0.2,
          0.2,
          0.2,
          0.2,
          0.2
         ]
        }
       ],
       "layout": {
        "barmode": "stack",
        "template": {
         "data": {
          "bar": [
           {
            "error_x": {
             "color": "#2a3f5f"
            },
            "error_y": {
             "color": "#2a3f5f"
            },
            "marker": {
             "line": {
              "color": "#E5ECF6",
              "width": 0.5
             },
             "pattern": {
              "fillmode": "overlay",
              "size": 10,
              "solidity": 0.2
             }
            },
            "type": "bar"
           }
          ],
          "barpolar": [
           {
            "marker": {
             "line": {
              "color": "#E5ECF6",
              "width": 0.5
             },
             "pattern": {
              "fillmode": "overlay",
              "size": 10,
              "solidity": 0.2
             }
            },
            "type": "barpolar"
           }
          ],
          "carpet": [
           {
            "aaxis": {
             "endlinecolor": "#2a3f5f",
             "gridcolor": "white",
             "linecolor": "white",
             "minorgridcolor": "white",
             "startlinecolor": "#2a3f5f"
            },
            "baxis": {
             "endlinecolor": "#2a3f5f",
             "gridcolor": "white",
             "linecolor": "white",
             "minorgridcolor": "white",
             "startlinecolor": "#2a3f5f"
            },
            "type": "carpet"
           }
          ],
          "choropleth": [
           {
            "colorbar": {
             "outlinewidth": 0,
             "ticks": ""
            },
            "type": "choropleth"
           }
          ],
          "contour": [
           {
            "colorbar": {
             "outlinewidth": 0,
             "ticks": ""
            },
            "colorscale": [
             [
              0,
              "#0d0887"
             ],
             [
              0.1111111111111111,
              "#46039f"
             ],
             [
              0.2222222222222222,
              "#7201a8"
             ],
             [
              0.3333333333333333,
              "#9c179e"
             ],
             [
              0.4444444444444444,
              "#bd3786"
             ],
             [
              0.5555555555555556,
              "#d8576b"
             ],
             [
              0.6666666666666666,
              "#ed7953"
             ],
             [
              0.7777777777777778,
              "#fb9f3a"
             ],
             [
              0.8888888888888888,
              "#fdca26"
             ],
             [
              1,
              "#f0f921"
             ]
            ],
            "type": "contour"
           }
          ],
          "contourcarpet": [
           {
            "colorbar": {
             "outlinewidth": 0,
             "ticks": ""
            },
            "type": "contourcarpet"
           }
          ],
          "heatmap": [
           {
            "colorbar": {
             "outlinewidth": 0,
             "ticks": ""
            },
            "colorscale": [
             [
              0,
              "#0d0887"
             ],
             [
              0.1111111111111111,
              "#46039f"
             ],
             [
              0.2222222222222222,
              "#7201a8"
             ],
             [
              0.3333333333333333,
              "#9c179e"
             ],
             [
              0.4444444444444444,
              "#bd3786"
             ],
             [
              0.5555555555555556,
              "#d8576b"
             ],
             [
              0.6666666666666666,
              "#ed7953"
             ],
             [
              0.7777777777777778,
              "#fb9f3a"
             ],
             [
              0.8888888888888888,
              "#fdca26"
             ],
             [
              1,
              "#f0f921"
             ]
            ],
            "type": "heatmap"
           }
          ],
          "heatmapgl": [
           {
            "colorbar": {
             "outlinewidth": 0,
             "ticks": ""
            },
            "colorscale": [
             [
              0,
              "#0d0887"
             ],
             [
              0.1111111111111111,
              "#46039f"
             ],
             [
              0.2222222222222222,
              "#7201a8"
             ],
             [
              0.3333333333333333,
              "#9c179e"
             ],
             [
              0.4444444444444444,
              "#bd3786"
             ],
             [
              0.5555555555555556,
              "#d8576b"
             ],
             [
              0.6666666666666666,
              "#ed7953"
             ],
             [
              0.7777777777777778,
              "#fb9f3a"
             ],
             [
              0.8888888888888888,
              "#fdca26"
             ],
             [
              1,
              "#f0f921"
             ]
            ],
            "type": "heatmapgl"
           }
          ],
          "histogram": [
           {
            "marker": {
             "pattern": {
              "fillmode": "overlay",
              "size": 10,
              "solidity": 0.2
             }
            },
            "type": "histogram"
           }
          ],
          "histogram2d": [
           {
            "colorbar": {
             "outlinewidth": 0,
             "ticks": ""
            },
            "colorscale": [
             [
              0,
              "#0d0887"
             ],
             [
              0.1111111111111111,
              "#46039f"
             ],
             [
              0.2222222222222222,
              "#7201a8"
             ],
             [
              0.3333333333333333,
              "#9c179e"
             ],
             [
              0.4444444444444444,
              "#bd3786"
             ],
             [
              0.5555555555555556,
              "#d8576b"
             ],
             [
              0.6666666666666666,
              "#ed7953"
             ],
             [
              0.7777777777777778,
              "#fb9f3a"
             ],
             [
              0.8888888888888888,
              "#fdca26"
             ],
             [
              1,
              "#f0f921"
             ]
            ],
            "type": "histogram2d"
           }
          ],
          "histogram2dcontour": [
           {
            "colorbar": {
             "outlinewidth": 0,
             "ticks": ""
            },
            "colorscale": [
             [
              0,
              "#0d0887"
             ],
             [
              0.1111111111111111,
              "#46039f"
             ],
             [
              0.2222222222222222,
              "#7201a8"
             ],
             [
              0.3333333333333333,
              "#9c179e"
             ],
             [
              0.4444444444444444,
              "#bd3786"
             ],
             [
              0.5555555555555556,
              "#d8576b"
             ],
             [
              0.6666666666666666,
              "#ed7953"
             ],
             [
              0.7777777777777778,
              "#fb9f3a"
             ],
             [
              0.8888888888888888,
              "#fdca26"
             ],
             [
              1,
              "#f0f921"
             ]
            ],
            "type": "histogram2dcontour"
           }
          ],
          "mesh3d": [
           {
            "colorbar": {
             "outlinewidth": 0,
             "ticks": ""
            },
            "type": "mesh3d"
           }
          ],
          "parcoords": [
           {
            "line": {
             "colorbar": {
              "outlinewidth": 0,
              "ticks": ""
             }
            },
            "type": "parcoords"
           }
          ],
          "pie": [
           {
            "automargin": true,
            "type": "pie"
           }
          ],
          "scatter": [
           {
            "fillpattern": {
             "fillmode": "overlay",
             "size": 10,
             "solidity": 0.2
            },
            "type": "scatter"
           }
          ],
          "scatter3d": [
           {
            "line": {
             "colorbar": {
              "outlinewidth": 0,
              "ticks": ""
             }
            },
            "marker": {
             "colorbar": {
              "outlinewidth": 0,
              "ticks": ""
             }
            },
            "type": "scatter3d"
           }
          ],
          "scattercarpet": [
           {
            "marker": {
             "colorbar": {
              "outlinewidth": 0,
              "ticks": ""
             }
            },
            "type": "scattercarpet"
           }
          ],
          "scattergeo": [
           {
            "marker": {
             "colorbar": {
              "outlinewidth": 0,
              "ticks": ""
             }
            },
            "type": "scattergeo"
           }
          ],
          "scattergl": [
           {
            "marker": {
             "colorbar": {
              "outlinewidth": 0,
              "ticks": ""
             }
            },
            "type": "scattergl"
           }
          ],
          "scattermapbox": [
           {
            "marker": {
             "colorbar": {
              "outlinewidth": 0,
              "ticks": ""
             }
            },
            "type": "scattermapbox"
           }
          ],
          "scatterpolar": [
           {
            "marker": {
             "colorbar": {
              "outlinewidth": 0,
              "ticks": ""
             }
            },
            "type": "scatterpolar"
           }
          ],
          "scatterpolargl": [
           {
            "marker": {
             "colorbar": {
              "outlinewidth": 0,
              "ticks": ""
             }
            },
            "type": "scatterpolargl"
           }
          ],
          "scatterternary": [
           {
            "marker": {
             "colorbar": {
              "outlinewidth": 0,
              "ticks": ""
             }
            },
            "type": "scatterternary"
           }
          ],
          "surface": [
           {
            "colorbar": {
             "outlinewidth": 0,
             "ticks": ""
            },
            "colorscale": [
             [
              0,
              "#0d0887"
             ],
             [
              0.1111111111111111,
              "#46039f"
             ],
             [
              0.2222222222222222,
              "#7201a8"
             ],
             [
              0.3333333333333333,
              "#9c179e"
             ],
             [
              0.4444444444444444,
              "#bd3786"
             ],
             [
              0.5555555555555556,
              "#d8576b"
             ],
             [
              0.6666666666666666,
              "#ed7953"
             ],
             [
              0.7777777777777778,
              "#fb9f3a"
             ],
             [
              0.8888888888888888,
              "#fdca26"
             ],
             [
              1,
              "#f0f921"
             ]
            ],
            "type": "surface"
           }
          ],
          "table": [
           {
            "cells": {
             "fill": {
              "color": "#EBF0F8"
             },
             "line": {
              "color": "white"
             }
            },
            "header": {
             "fill": {
              "color": "#C8D4E3"
             },
             "line": {
              "color": "white"
             }
            },
            "type": "table"
           }
          ]
         },
         "layout": {
          "annotationdefaults": {
           "arrowcolor": "#2a3f5f",
           "arrowhead": 0,
           "arrowwidth": 1
          },
          "autotypenumbers": "strict",
          "coloraxis": {
           "colorbar": {
            "outlinewidth": 0,
            "ticks": ""
           }
          },
          "colorscale": {
           "diverging": [
            [
             0,
             "#8e0152"
            ],
            [
             0.1,
             "#c51b7d"
            ],
            [
             0.2,
             "#de77ae"
            ],
            [
             0.3,
             "#f1b6da"
            ],
            [
             0.4,
             "#fde0ef"
            ],
            [
             0.5,
             "#f7f7f7"
            ],
            [
             0.6,
             "#e6f5d0"
            ],
            [
             0.7,
             "#b8e186"
            ],
            [
             0.8,
             "#7fbc41"
            ],
            [
             0.9,
             "#4d9221"
            ],
            [
             1,
             "#276419"
            ]
           ],
           "sequential": [
            [
             0,
             "#0d0887"
            ],
            [
             0.1111111111111111,
             "#46039f"
            ],
            [
             0.2222222222222222,
             "#7201a8"
            ],
            [
             0.3333333333333333,
             "#9c179e"
            ],
            [
             0.4444444444444444,
             "#bd3786"
            ],
            [
             0.5555555555555556,
             "#d8576b"
            ],
            [
             0.6666666666666666,
             "#ed7953"
            ],
            [
             0.7777777777777778,
             "#fb9f3a"
            ],
            [
             0.8888888888888888,
             "#fdca26"
            ],
            [
             1,
             "#f0f921"
            ]
           ],
           "sequentialminus": [
            [
             0,
             "#0d0887"
            ],
            [
             0.1111111111111111,
             "#46039f"
            ],
            [
             0.2222222222222222,
             "#7201a8"
            ],
            [
             0.3333333333333333,
             "#9c179e"
            ],
            [
             0.4444444444444444,
             "#bd3786"
            ],
            [
             0.5555555555555556,
             "#d8576b"
            ],
            [
             0.6666666666666666,
             "#ed7953"
            ],
            [
             0.7777777777777778,
             "#fb9f3a"
            ],
            [
             0.8888888888888888,
             "#fdca26"
            ],
            [
             1,
             "#f0f921"
            ]
           ]
          },
          "colorway": [
           "#636efa",
           "#EF553B",
           "#00cc96",
           "#ab63fa",
           "#FFA15A",
           "#19d3f3",
           "#FF6692",
           "#B6E880",
           "#FF97FF",
           "#FECB52"
          ],
          "font": {
           "color": "#2a3f5f"
          },
          "geo": {
           "bgcolor": "white",
           "lakecolor": "white",
           "landcolor": "#E5ECF6",
           "showlakes": true,
           "showland": true,
           "subunitcolor": "white"
          },
          "hoverlabel": {
           "align": "left"
          },
          "hovermode": "closest",
          "mapbox": {
           "style": "light"
          },
          "paper_bgcolor": "white",
          "plot_bgcolor": "#E5ECF6",
          "polar": {
           "angularaxis": {
            "gridcolor": "white",
            "linecolor": "white",
            "ticks": ""
           },
           "bgcolor": "#E5ECF6",
           "radialaxis": {
            "gridcolor": "white",
            "linecolor": "white",
            "ticks": ""
           }
          },
          "scene": {
           "xaxis": {
            "backgroundcolor": "#E5ECF6",
            "gridcolor": "white",
            "gridwidth": 2,
            "linecolor": "white",
            "showbackground": true,
            "ticks": "",
            "zerolinecolor": "white"
           },
           "yaxis": {
            "backgroundcolor": "#E5ECF6",
            "gridcolor": "white",
            "gridwidth": 2,
            "linecolor": "white",
            "showbackground": true,
            "ticks": "",
            "zerolinecolor": "white"
           },
           "zaxis": {
            "backgroundcolor": "#E5ECF6",
            "gridcolor": "white",
            "gridwidth": 2,
            "linecolor": "white",
            "showbackground": true,
            "ticks": "",
            "zerolinecolor": "white"
           }
          },
          "shapedefaults": {
           "line": {
            "color": "#2a3f5f"
           }
          },
          "ternary": {
           "aaxis": {
            "gridcolor": "white",
            "linecolor": "white",
            "ticks": ""
           },
           "baxis": {
            "gridcolor": "white",
            "linecolor": "white",
            "ticks": ""
           },
           "bgcolor": "#E5ECF6",
           "caxis": {
            "gridcolor": "white",
            "linecolor": "white",
            "ticks": ""
           }
          },
          "title": {
           "x": 0.05
          },
          "xaxis": {
           "automargin": true,
           "gridcolor": "white",
           "linecolor": "white",
           "ticks": "",
           "title": {
            "standoff": 15
           },
           "zerolinecolor": "white",
           "zerolinewidth": 2
          },
          "yaxis": {
           "automargin": true,
           "gridcolor": "white",
           "linecolor": "white",
           "ticks": "",
           "title": {
            "standoff": 15
           },
           "zerolinecolor": "white",
           "zerolinewidth": 2
          }
         }
        }
       }
      }
     },
     "metadata": {},
     "output_type": "display_data"
    }
   ],
   "source": [
    "THIN = 0.100001\n",
    "\n",
    "# df = pd.DataFrame(\n",
    "#             {   \n",
    "#                 \"cell_number\": [0,0,0,0,1,1,1,1],\n",
    "#                 \"top\": [0.41, 0.3, 0.245, 0.1, 0.41, 0.3, THIN, 0.1],\n",
    "#                 \"bottom\": [0.3, 0.245, 0.1, -0.5, 0.3, THIN, 0.1, -0.5],\n",
    "#                 \"type\": [\"settled\", \"settled\", \"settled\", \"bed\", \"settled\", \"settled\", \"settled\", \"bed\"],\n",
    "#                 \"name\": [\"2\", \"1\", \"0\", \"existing\", \"2\", \"1\", \"0\", \"existing\"],\n",
    "#             }\n",
    "#         )\n",
    "\n",
    "df = pd.read_pickle('df.pickle') #a problematic dataframe\n",
    "\n",
    "color_by = 'name'\n",
    "color_by = 'proximity'\n",
    "\n",
    "cm = Colormap('viridis')\n",
    "df[color_by] = pd.to_numeric(df[color_by], errors=\"coerce\")\n",
    "\n",
    "n_colors = len(df[color_by].unique()) - 1\n",
    "n_cells = len(df[\"cell_number\"].unique())\n",
    "colours = cm(np.linspace(0,1,n_colors))\n",
    "\n",
    "fig = go.Figure()\n",
    "for n, df1 in df.groupby(color_by, dropna=False):\n",
    "    print(df1)\n",
    "    if pd.isna(n):\n",
    "        colour = ['#2e2e2e'] * n_cells\n",
    "        name = 'seabed'\n",
    "    else:\n",
    "        colour = colours[int(n)]\n",
    "        colour = [f\"rgb{colour[0], colour[1], colour[2]}\"] * n_cells\n",
    "        name = f\"Settled {int(n)}\"\n",
    "    \n",
    "    fig.add_trace(\n",
    "        go.Bar(\n",
    "            x=df1[\"cell_number\"],\n",
    "            y=df1[\"thickness\"],\n",
    "            base=df1[\"bottom\"],\n",
    "            marker_color=colour,\n",
    "            marker_line_width=0,\n",
    "            width = 1,\n",
    "            name=name,\n",
    "            hovertemplate=\"Top: %{y:.5f}m\"\n",
    "            + \"<br>Bottom: %{base:.5f}m\"\n",
    "            + \"<br>Thickness: %{customdata[0]:,.5f}m\"\n",
    "            + f\"<br>Name: {name}\"\n",
    "            + \"<br><b>Cell</b>: %{x}<br>\",\n",
    "            customdata= df1[[\"thickness\"]]\n",
    "        )\n",
    "    )\n",
    "\n",
    "fig.update_layout(barmode=\"stack\")#, bargap=0.0)\n",
    "fig.show()"
   ]
  }
 ],
 "metadata": {
  "kernelspec": {
   "display_name": ".venv",
   "language": "python",
   "name": "python3"
  },
  "language_info": {
   "codemirror_mode": {
    "name": "ipython",
    "version": 3
   },
   "file_extension": ".py",
   "mimetype": "text/x-python",
   "name": "python",
   "nbconvert_exporter": "python",
   "pygments_lexer": "ipython3",
   "version": "3.10.5"
  }
 },
 "nbformat": 4,
 "nbformat_minor": 2
}
